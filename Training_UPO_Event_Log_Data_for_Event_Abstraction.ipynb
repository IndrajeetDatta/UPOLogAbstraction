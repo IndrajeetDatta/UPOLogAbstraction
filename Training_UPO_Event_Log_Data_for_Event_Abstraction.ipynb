{
 "cells": [
  {
   "cell_type": "markdown",
   "metadata": {},
   "source": [
    "# Training UPO Event Log Data for Event Abstraction"
   ]
  },
  {
   "cell_type": "markdown",
   "metadata": {},
   "source": [
    "Importing all the libraries"
   ]
  },
  {
   "cell_type": "code",
   "execution_count": 1,
   "metadata": {},
   "outputs": [],
   "source": [
    "import json\n",
    "import os\n",
    "import glob\n",
    "import pandas as pd\n",
    "import numpy as np\n",
    "import re\n",
    "import matplotlib.pyplot as plt\n",
    "from nltk.corpus import stopwords\n",
    "from nltk.stem import SnowballStemmer\n",
    "from sklearn.feature_extraction.text import TfidfVectorizer\n",
    "from sklearn.feature_extraction.text import TfidfTransformer\n",
    "from sklearn.feature_extraction.text import CountVectorizer\n",
    "from sklearn.naive_bayes import MultinomialNB\n",
    "from sklearn.svm import LinearSVC\n",
    "from sklearn.feature_selection import SelectKBest, chi2\n",
    "from sklearn.linear_model import LogisticRegression\n",
    "from sklearn.ensemble import RandomForestClassifier\n",
    "from sklearn.pipeline import Pipeline\n",
    "from sklearn.model_selection import train_test_split\n",
    "from sklearn.model_selection import cross_val_score\n",
    "import seaborn as sns\n",
    "from sklearn.metrics import confusion_matrix\n"
   ]
  },
  {
   "cell_type": "markdown",
   "metadata": {},
   "source": [
    "Defining a function that takes nested tuples and yield the inner values recursively. This function doesn't yield the tuples if the tuples' first value start with 'launch' or 'comment'. So, only the 'activity' logs are yielded. I did that on purpose because I believe the 'launch' and 'comment' logs are not significant for detecting the activities"
   ]
  },
  {
   "cell_type": "code",
   "execution_count": 2,
   "metadata": {},
   "outputs": [],
   "source": [
    "def recursive_items(tupl):\n",
    "    for value in tupl:\n",
    "        if type(value) is tuple: \n",
    "            if value[0] != 'launch' and value[0] != 'comment':\n",
    "                yield from recursive_items(value)\n",
    "        else:\n",
    "            yield value"
   ]
  },
  {
   "cell_type": "markdown",
   "metadata": {},
   "source": [
    "# Loading the data from event log .json files"
   ]
  },
  {
   "cell_type": "code",
   "execution_count": 3,
   "metadata": {},
   "outputs": [],
   "source": [
    "data = pd.DataFrame([])"
   ]
  },
  {
   "cell_type": "markdown",
   "metadata": {},
   "source": [
    "The folderlist below stores names of the folders which containg logs describing different event labels. The folder names are the same as according to the labels of the event logs stored inside them"
   ]
  },
  {
   "cell_type": "code",
   "execution_count": 4,
   "metadata": {},
   "outputs": [],
   "source": [
    "folderlist=[\"OpeningChrome\",\"OpeningEclipse\",\"ClosingChrome\",\"ClosingEclipse\",\"CreatingNewFolder\", \"DeletingFolder\"]"
   ]
  },
  {
   "cell_type": "markdown",
   "metadata": {},
   "source": [
    "In the next block of code I loop through each of the folders in the folderlist array change the directory to go inside them and then load all the json files through glob and then store the file names of the json files in an array then loop through each of the Json files to load the data into a dataframe"
   ]
  },
  {
   "cell_type": "code",
   "execution_count": 5,
   "metadata": {},
   "outputs": [],
   "source": [
    "for i in folderlist:\n",
    "    #print(i)\n",
    "    os.chdir(r'C:\\Users\\datta\\AppData\\Local\\UsageProbeLogs\\{}'.format(i))\n",
    "    files1 = glob.glob('*.json')\n",
    "    for file in files1:\n",
    "        #print(file)\n",
    "        with open(file, \"r\") as upoLogFile:\n",
    "            log_str = \"\"\n",
    "            logdata = json.load(upoLogFile, object_pairs_hook=tuple)\n",
    "            for value in recursive_items(logdata):\n",
    "                if type(value) == str :\n",
    "                    log_str = log_str + value + \" \"\n",
    "                elif type(value) == int:\n",
    "                    log_str = log_str + str(value) + \" \"\n",
    "                elif type(value) == bool:\n",
    "                    log_str = log_str + str(value) + \" \"\n",
    "                elif type(value) == list:\n",
    "                    log_str = log_str + \" \".join(value) + \" \"\n",
    "            data = data.append(pd.DataFrame({'log' :  log_str, 'label': i}, index=[0]), ignore_index=True)\n"
   ]
  },
  {
   "cell_type": "markdown",
   "metadata": {},
   "source": [
    "Randomizing the rows in the dataframe"
   ]
  },
  {
   "cell_type": "code",
   "execution_count": 6,
   "metadata": {},
   "outputs": [],
   "source": [
    "data = data.sample(frac=1).reset_index(drop=True)"
   ]
  },
  {
   "cell_type": "code",
   "execution_count": 7,
   "metadata": {
    "scrolled": true
   },
   "outputs": [
    {
     "data": {
      "text/html": [
       "<div>\n",
       "<style scoped>\n",
       "    .dataframe tbody tr th:only-of-type {\n",
       "        vertical-align: middle;\n",
       "    }\n",
       "\n",
       "    .dataframe tbody tr th {\n",
       "        vertical-align: top;\n",
       "    }\n",
       "\n",
       "    .dataframe thead th {\n",
       "        text-align: right;\n",
       "    }\n",
       "</style>\n",
       "<table border=\"1\" class=\"dataframe\">\n",
       "  <thead>\n",
       "    <tr style=\"text-align: right;\">\n",
       "      <th></th>\n",
       "      <th>log</th>\n",
       "      <th>label</th>\n",
       "    </tr>\n",
       "  </thead>\n",
       "  <tbody>\n",
       "    <tr>\n",
       "      <th>0</th>\n",
       "      <td>activity probe PROCESS_PROBE status ProcessCre...</td>\n",
       "      <td>ClosingEclipse</td>\n",
       "    </tr>\n",
       "    <tr>\n",
       "      <th>1</th>\n",
       "      <td>activity probe FILERESOURCE_PROBE status Creat...</td>\n",
       "      <td>OpeningEclipse</td>\n",
       "    </tr>\n",
       "    <tr>\n",
       "      <th>2</th>\n",
       "      <td>activity probe FILERESOURCE_PROBE status Chang...</td>\n",
       "      <td>OpeningEclipse</td>\n",
       "    </tr>\n",
       "    <tr>\n",
       "      <th>3</th>\n",
       "      <td>activity probe FILERESOURCE_PROBE status Delet...</td>\n",
       "      <td>DeletingFolder</td>\n",
       "    </tr>\n",
       "    <tr>\n",
       "      <th>4</th>\n",
       "      <td>activity probe FILERESOURCE_PROBE status Creat...</td>\n",
       "      <td>CreatingNewFolder</td>\n",
       "    </tr>\n",
       "    <tr>\n",
       "      <th>...</th>\n",
       "      <td>...</td>\n",
       "      <td>...</td>\n",
       "    </tr>\n",
       "    <tr>\n",
       "      <th>595</th>\n",
       "      <td>activity probe PROCESS_PROBE status ProcessCre...</td>\n",
       "      <td>OpeningChrome</td>\n",
       "    </tr>\n",
       "    <tr>\n",
       "      <th>596</th>\n",
       "      <td>activity probe FILERESOURCE_PROBE status Chang...</td>\n",
       "      <td>ClosingChrome</td>\n",
       "    </tr>\n",
       "    <tr>\n",
       "      <th>597</th>\n",
       "      <td>activity probe PROCESS_PROBE status ProcessCre...</td>\n",
       "      <td>ClosingChrome</td>\n",
       "    </tr>\n",
       "    <tr>\n",
       "      <th>598</th>\n",
       "      <td>activity probe PROCESS_PROBE status ProcessCre...</td>\n",
       "      <td>OpeningChrome</td>\n",
       "    </tr>\n",
       "    <tr>\n",
       "      <th>599</th>\n",
       "      <td>activity probe FILERESOURCE_PROBE status Creat...</td>\n",
       "      <td>CreatingNewFolder</td>\n",
       "    </tr>\n",
       "  </tbody>\n",
       "</table>\n",
       "<p>600 rows × 2 columns</p>\n",
       "</div>"
      ],
      "text/plain": [
       "                                                   log              label\n",
       "0    activity probe PROCESS_PROBE status ProcessCre...     ClosingEclipse\n",
       "1    activity probe FILERESOURCE_PROBE status Creat...     OpeningEclipse\n",
       "2    activity probe FILERESOURCE_PROBE status Chang...     OpeningEclipse\n",
       "3    activity probe FILERESOURCE_PROBE status Delet...     DeletingFolder\n",
       "4    activity probe FILERESOURCE_PROBE status Creat...  CreatingNewFolder\n",
       "..                                                 ...                ...\n",
       "595  activity probe PROCESS_PROBE status ProcessCre...      OpeningChrome\n",
       "596  activity probe FILERESOURCE_PROBE status Chang...      ClosingChrome\n",
       "597  activity probe PROCESS_PROBE status ProcessCre...      ClosingChrome\n",
       "598  activity probe PROCESS_PROBE status ProcessCre...      OpeningChrome\n",
       "599  activity probe FILERESOURCE_PROBE status Creat...  CreatingNewFolder\n",
       "\n",
       "[600 rows x 2 columns]"
      ]
     },
     "execution_count": 7,
     "metadata": {},
     "output_type": "execute_result"
    }
   ],
   "source": [
    "data"
   ]
  },
  {
   "cell_type": "markdown",
   "metadata": {},
   "source": [
    "Initializing Snowball Stemmer to Stem the log text which will help in better classification"
   ]
  },
  {
   "cell_type": "code",
   "execution_count": 8,
   "metadata": {},
   "outputs": [],
   "source": [
    "stemmer = SnowballStemmer('english')"
   ]
  },
  {
   "cell_type": "markdown",
   "metadata": {},
   "source": [
    "Getting all the stopwords and store in a variable to filter out from the log string"
   ]
  },
  {
   "cell_type": "code",
   "execution_count": 9,
   "metadata": {},
   "outputs": [],
   "source": [
    "words = stopwords.words(\"english\")"
   ]
  },
  {
   "cell_type": "markdown",
   "metadata": {},
   "source": [
    "Next, for every entry in the 'log' column of the dataframe, the following command substitutes all the non-alphabets into spaces and then loads the sub-strings separated by the spaces into a list using the split() command and then for all the values in that list, stems the values using the stemmer then joins all the list values as a single string separated by \" \" and then finally the .lower() on the string to turn all the upper case letters into lower case letters and finally add the string into a new column 'cleaned_log'"
   ]
  },
  {
   "cell_type": "code",
   "execution_count": 10,
   "metadata": {},
   "outputs": [],
   "source": [
    "data['cleaned_log'] = data['log'].apply(lambda x: \" \".join([stemmer.stem(i) for i in re.sub(\"[^a-zA-Z]\", \" \", x).split() if i not in words]).lower())"
   ]
  },
  {
   "cell_type": "code",
   "execution_count": 11,
   "metadata": {
    "scrolled": false
   },
   "outputs": [
    {
     "data": {
      "text/html": [
       "<div>\n",
       "<style scoped>\n",
       "    .dataframe tbody tr th:only-of-type {\n",
       "        vertical-align: middle;\n",
       "    }\n",
       "\n",
       "    .dataframe tbody tr th {\n",
       "        vertical-align: top;\n",
       "    }\n",
       "\n",
       "    .dataframe thead th {\n",
       "        text-align: right;\n",
       "    }\n",
       "</style>\n",
       "<table border=\"1\" class=\"dataframe\">\n",
       "  <thead>\n",
       "    <tr style=\"text-align: right;\">\n",
       "      <th></th>\n",
       "      <th>log</th>\n",
       "      <th>label</th>\n",
       "      <th>cleaned_log</th>\n",
       "    </tr>\n",
       "  </thead>\n",
       "  <tbody>\n",
       "    <tr>\n",
       "      <th>0</th>\n",
       "      <td>activity probe PROCESS_PROBE status ProcessCre...</td>\n",
       "      <td>ClosingEclipse</td>\n",
       "      <td>activ probe process probe status processcr pro...</td>\n",
       "    </tr>\n",
       "    <tr>\n",
       "      <th>1</th>\n",
       "      <td>activity probe FILERESOURCE_PROBE status Creat...</td>\n",
       "      <td>OpeningEclipse</td>\n",
       "      <td>activ probe fileresourc probe status creat pat...</td>\n",
       "    </tr>\n",
       "    <tr>\n",
       "      <th>2</th>\n",
       "      <td>activity probe FILERESOURCE_PROBE status Chang...</td>\n",
       "      <td>OpeningEclipse</td>\n",
       "      <td>activ probe fileresourc probe status chang pat...</td>\n",
       "    </tr>\n",
       "    <tr>\n",
       "      <th>3</th>\n",
       "      <td>activity probe FILERESOURCE_PROBE status Delet...</td>\n",
       "      <td>DeletingFolder</td>\n",
       "      <td>activ probe fileresourc probe status delet pat...</td>\n",
       "    </tr>\n",
       "    <tr>\n",
       "      <th>4</th>\n",
       "      <td>activity probe FILERESOURCE_PROBE status Creat...</td>\n",
       "      <td>CreatingNewFolder</td>\n",
       "      <td>activ probe fileresourc probe status creat pat...</td>\n",
       "    </tr>\n",
       "    <tr>\n",
       "      <th>...</th>\n",
       "      <td>...</td>\n",
       "      <td>...</td>\n",
       "      <td>...</td>\n",
       "    </tr>\n",
       "    <tr>\n",
       "      <th>595</th>\n",
       "      <td>activity probe PROCESS_PROBE status ProcessCre...</td>\n",
       "      <td>OpeningChrome</td>\n",
       "      <td>activ probe process probe status processcr pro...</td>\n",
       "    </tr>\n",
       "    <tr>\n",
       "      <th>596</th>\n",
       "      <td>activity probe FILERESOURCE_PROBE status Chang...</td>\n",
       "      <td>ClosingChrome</td>\n",
       "      <td>activ probe fileresourc probe status chang pat...</td>\n",
       "    </tr>\n",
       "    <tr>\n",
       "      <th>597</th>\n",
       "      <td>activity probe PROCESS_PROBE status ProcessCre...</td>\n",
       "      <td>ClosingChrome</td>\n",
       "      <td>activ probe process probe status processcr pro...</td>\n",
       "    </tr>\n",
       "    <tr>\n",
       "      <th>598</th>\n",
       "      <td>activity probe PROCESS_PROBE status ProcessCre...</td>\n",
       "      <td>OpeningChrome</td>\n",
       "      <td>activ probe process probe status processcr pro...</td>\n",
       "    </tr>\n",
       "    <tr>\n",
       "      <th>599</th>\n",
       "      <td>activity probe FILERESOURCE_PROBE status Creat...</td>\n",
       "      <td>CreatingNewFolder</td>\n",
       "      <td>activ probe fileresourc probe status creat pat...</td>\n",
       "    </tr>\n",
       "  </tbody>\n",
       "</table>\n",
       "<p>600 rows × 3 columns</p>\n",
       "</div>"
      ],
      "text/plain": [
       "                                                   log              label  \\\n",
       "0    activity probe PROCESS_PROBE status ProcessCre...     ClosingEclipse   \n",
       "1    activity probe FILERESOURCE_PROBE status Creat...     OpeningEclipse   \n",
       "2    activity probe FILERESOURCE_PROBE status Chang...     OpeningEclipse   \n",
       "3    activity probe FILERESOURCE_PROBE status Delet...     DeletingFolder   \n",
       "4    activity probe FILERESOURCE_PROBE status Creat...  CreatingNewFolder   \n",
       "..                                                 ...                ...   \n",
       "595  activity probe PROCESS_PROBE status ProcessCre...      OpeningChrome   \n",
       "596  activity probe FILERESOURCE_PROBE status Chang...      ClosingChrome   \n",
       "597  activity probe PROCESS_PROBE status ProcessCre...      ClosingChrome   \n",
       "598  activity probe PROCESS_PROBE status ProcessCre...      OpeningChrome   \n",
       "599  activity probe FILERESOURCE_PROBE status Creat...  CreatingNewFolder   \n",
       "\n",
       "                                           cleaned_log  \n",
       "0    activ probe process probe status processcr pro...  \n",
       "1    activ probe fileresourc probe status creat pat...  \n",
       "2    activ probe fileresourc probe status chang pat...  \n",
       "3    activ probe fileresourc probe status delet pat...  \n",
       "4    activ probe fileresourc probe status creat pat...  \n",
       "..                                                 ...  \n",
       "595  activ probe process probe status processcr pro...  \n",
       "596  activ probe fileresourc probe status chang pat...  \n",
       "597  activ probe process probe status processcr pro...  \n",
       "598  activ probe process probe status processcr pro...  \n",
       "599  activ probe fileresourc probe status creat pat...  \n",
       "\n",
       "[600 rows x 3 columns]"
      ]
     },
     "execution_count": 11,
     "metadata": {},
     "output_type": "execute_result"
    }
   ],
   "source": [
    "data"
   ]
  },
  {
   "cell_type": "markdown",
   "metadata": {},
   "source": [
    "Now, for each of the labels in the dataframe, the following command represents the labels as unique integer ID and stores into a new column in the dataframe called 'label_id'"
   ]
  },
  {
   "cell_type": "code",
   "execution_count": 12,
   "metadata": {},
   "outputs": [],
   "source": [
    "data['label_id'] = data['label'].factorize()[0]"
   ]
  },
  {
   "cell_type": "code",
   "execution_count": 13,
   "metadata": {},
   "outputs": [
    {
     "data": {
      "text/html": [
       "<div>\n",
       "<style scoped>\n",
       "    .dataframe tbody tr th:only-of-type {\n",
       "        vertical-align: middle;\n",
       "    }\n",
       "\n",
       "    .dataframe tbody tr th {\n",
       "        vertical-align: top;\n",
       "    }\n",
       "\n",
       "    .dataframe thead th {\n",
       "        text-align: right;\n",
       "    }\n",
       "</style>\n",
       "<table border=\"1\" class=\"dataframe\">\n",
       "  <thead>\n",
       "    <tr style=\"text-align: right;\">\n",
       "      <th></th>\n",
       "      <th>log</th>\n",
       "      <th>label</th>\n",
       "      <th>cleaned_log</th>\n",
       "      <th>label_id</th>\n",
       "    </tr>\n",
       "  </thead>\n",
       "  <tbody>\n",
       "    <tr>\n",
       "      <th>0</th>\n",
       "      <td>activity probe PROCESS_PROBE status ProcessCre...</td>\n",
       "      <td>ClosingEclipse</td>\n",
       "      <td>activ probe process probe status processcr pro...</td>\n",
       "      <td>0</td>\n",
       "    </tr>\n",
       "    <tr>\n",
       "      <th>1</th>\n",
       "      <td>activity probe FILERESOURCE_PROBE status Creat...</td>\n",
       "      <td>OpeningEclipse</td>\n",
       "      <td>activ probe fileresourc probe status creat pat...</td>\n",
       "      <td>1</td>\n",
       "    </tr>\n",
       "    <tr>\n",
       "      <th>2</th>\n",
       "      <td>activity probe FILERESOURCE_PROBE status Chang...</td>\n",
       "      <td>OpeningEclipse</td>\n",
       "      <td>activ probe fileresourc probe status chang pat...</td>\n",
       "      <td>1</td>\n",
       "    </tr>\n",
       "    <tr>\n",
       "      <th>3</th>\n",
       "      <td>activity probe FILERESOURCE_PROBE status Delet...</td>\n",
       "      <td>DeletingFolder</td>\n",
       "      <td>activ probe fileresourc probe status delet pat...</td>\n",
       "      <td>2</td>\n",
       "    </tr>\n",
       "    <tr>\n",
       "      <th>4</th>\n",
       "      <td>activity probe FILERESOURCE_PROBE status Creat...</td>\n",
       "      <td>CreatingNewFolder</td>\n",
       "      <td>activ probe fileresourc probe status creat pat...</td>\n",
       "      <td>3</td>\n",
       "    </tr>\n",
       "    <tr>\n",
       "      <th>...</th>\n",
       "      <td>...</td>\n",
       "      <td>...</td>\n",
       "      <td>...</td>\n",
       "      <td>...</td>\n",
       "    </tr>\n",
       "    <tr>\n",
       "      <th>595</th>\n",
       "      <td>activity probe PROCESS_PROBE status ProcessCre...</td>\n",
       "      <td>OpeningChrome</td>\n",
       "      <td>activ probe process probe status processcr pro...</td>\n",
       "      <td>5</td>\n",
       "    </tr>\n",
       "    <tr>\n",
       "      <th>596</th>\n",
       "      <td>activity probe FILERESOURCE_PROBE status Chang...</td>\n",
       "      <td>ClosingChrome</td>\n",
       "      <td>activ probe fileresourc probe status chang pat...</td>\n",
       "      <td>4</td>\n",
       "    </tr>\n",
       "    <tr>\n",
       "      <th>597</th>\n",
       "      <td>activity probe PROCESS_PROBE status ProcessCre...</td>\n",
       "      <td>ClosingChrome</td>\n",
       "      <td>activ probe process probe status processcr pro...</td>\n",
       "      <td>4</td>\n",
       "    </tr>\n",
       "    <tr>\n",
       "      <th>598</th>\n",
       "      <td>activity probe PROCESS_PROBE status ProcessCre...</td>\n",
       "      <td>OpeningChrome</td>\n",
       "      <td>activ probe process probe status processcr pro...</td>\n",
       "      <td>5</td>\n",
       "    </tr>\n",
       "    <tr>\n",
       "      <th>599</th>\n",
       "      <td>activity probe FILERESOURCE_PROBE status Creat...</td>\n",
       "      <td>CreatingNewFolder</td>\n",
       "      <td>activ probe fileresourc probe status creat pat...</td>\n",
       "      <td>3</td>\n",
       "    </tr>\n",
       "  </tbody>\n",
       "</table>\n",
       "<p>600 rows × 4 columns</p>\n",
       "</div>"
      ],
      "text/plain": [
       "                                                   log              label  \\\n",
       "0    activity probe PROCESS_PROBE status ProcessCre...     ClosingEclipse   \n",
       "1    activity probe FILERESOURCE_PROBE status Creat...     OpeningEclipse   \n",
       "2    activity probe FILERESOURCE_PROBE status Chang...     OpeningEclipse   \n",
       "3    activity probe FILERESOURCE_PROBE status Delet...     DeletingFolder   \n",
       "4    activity probe FILERESOURCE_PROBE status Creat...  CreatingNewFolder   \n",
       "..                                                 ...                ...   \n",
       "595  activity probe PROCESS_PROBE status ProcessCre...      OpeningChrome   \n",
       "596  activity probe FILERESOURCE_PROBE status Chang...      ClosingChrome   \n",
       "597  activity probe PROCESS_PROBE status ProcessCre...      ClosingChrome   \n",
       "598  activity probe PROCESS_PROBE status ProcessCre...      OpeningChrome   \n",
       "599  activity probe FILERESOURCE_PROBE status Creat...  CreatingNewFolder   \n",
       "\n",
       "                                           cleaned_log  label_id  \n",
       "0    activ probe process probe status processcr pro...         0  \n",
       "1    activ probe fileresourc probe status creat pat...         1  \n",
       "2    activ probe fileresourc probe status chang pat...         1  \n",
       "3    activ probe fileresourc probe status delet pat...         2  \n",
       "4    activ probe fileresourc probe status creat pat...         3  \n",
       "..                                                 ...       ...  \n",
       "595  activ probe process probe status processcr pro...         5  \n",
       "596  activ probe fileresourc probe status chang pat...         4  \n",
       "597  activ probe process probe status processcr pro...         4  \n",
       "598  activ probe process probe status processcr pro...         5  \n",
       "599  activ probe fileresourc probe status creat pat...         3  \n",
       "\n",
       "[600 rows x 4 columns]"
      ]
     },
     "execution_count": 13,
     "metadata": {},
     "output_type": "execute_result"
    }
   ],
   "source": [
    "data"
   ]
  },
  {
   "cell_type": "code",
   "execution_count": 14,
   "metadata": {},
   "outputs": [],
   "source": [
    "label_id_df = data[['label', 'label_id']].drop_duplicates().sort_values('label_id')"
   ]
  },
  {
   "cell_type": "code",
   "execution_count": 15,
   "metadata": {
    "scrolled": true
   },
   "outputs": [
    {
     "data": {
      "text/html": [
       "<div>\n",
       "<style scoped>\n",
       "    .dataframe tbody tr th:only-of-type {\n",
       "        vertical-align: middle;\n",
       "    }\n",
       "\n",
       "    .dataframe tbody tr th {\n",
       "        vertical-align: top;\n",
       "    }\n",
       "\n",
       "    .dataframe thead th {\n",
       "        text-align: right;\n",
       "    }\n",
       "</style>\n",
       "<table border=\"1\" class=\"dataframe\">\n",
       "  <thead>\n",
       "    <tr style=\"text-align: right;\">\n",
       "      <th></th>\n",
       "      <th>label</th>\n",
       "      <th>label_id</th>\n",
       "    </tr>\n",
       "  </thead>\n",
       "  <tbody>\n",
       "    <tr>\n",
       "      <th>0</th>\n",
       "      <td>ClosingEclipse</td>\n",
       "      <td>0</td>\n",
       "    </tr>\n",
       "    <tr>\n",
       "      <th>1</th>\n",
       "      <td>OpeningEclipse</td>\n",
       "      <td>1</td>\n",
       "    </tr>\n",
       "    <tr>\n",
       "      <th>3</th>\n",
       "      <td>DeletingFolder</td>\n",
       "      <td>2</td>\n",
       "    </tr>\n",
       "    <tr>\n",
       "      <th>4</th>\n",
       "      <td>CreatingNewFolder</td>\n",
       "      <td>3</td>\n",
       "    </tr>\n",
       "    <tr>\n",
       "      <th>6</th>\n",
       "      <td>ClosingChrome</td>\n",
       "      <td>4</td>\n",
       "    </tr>\n",
       "    <tr>\n",
       "      <th>8</th>\n",
       "      <td>OpeningChrome</td>\n",
       "      <td>5</td>\n",
       "    </tr>\n",
       "  </tbody>\n",
       "</table>\n",
       "</div>"
      ],
      "text/plain": [
       "               label  label_id\n",
       "0     ClosingEclipse         0\n",
       "1     OpeningEclipse         1\n",
       "3     DeletingFolder         2\n",
       "4  CreatingNewFolder         3\n",
       "6      ClosingChrome         4\n",
       "8      OpeningChrome         5"
      ]
     },
     "execution_count": 15,
     "metadata": {},
     "output_type": "execute_result"
    }
   ],
   "source": [
    "label_id_df"
   ]
  },
  {
   "cell_type": "markdown",
   "metadata": {},
   "source": [
    "The following command creates a plot to visualize the number of logs present for each label in the data"
   ]
  },
  {
   "cell_type": "code",
   "execution_count": 16,
   "metadata": {},
   "outputs": [
    {
     "data": {
      "text/plain": [
       "<matplotlib.axes._subplots.AxesSubplot at 0x2aa0b7bd808>"
      ]
     },
     "execution_count": 16,
     "metadata": {},
     "output_type": "execute_result"
    },
    {
     "data": {
      "image/png": "[encoded data removed]",
      "text/plain": [
       "<Figure size 576x432 with 1 Axes>"
      ]
     },
     "metadata": {
      "needs_background": "light"
     },
     "output_type": "display_data"
    }
   ],
   "source": [
    "fig = plt.figure(figsize=(8,6))\n",
    "data.groupby('label').cleaned_log.count().plot.bar(ylim=0)"
   ]
  },
  {
   "cell_type": "markdown",
   "metadata": {},
   "source": [
    "The following command creates a csv file from the new modified dataframe and exports it through a zip file"
   ]
  },
  {
   "cell_type": "code",
   "execution_count": 17,
   "metadata": {},
   "outputs": [],
   "source": [
    "os.chdir(r'C:\\Users\\datta\\AppData\\Local\\UsageProbeLogs')\n",
    "compression_opts = dict(method='zip', archive_name='out.csv')\n",
    "data.to_csv('out.zip', index=False, compression=compression_opts)"
   ]
  },
  {
   "cell_type": "markdown",
   "metadata": {},
   "source": [
    "# Training with Multinomial Naive Bayes Classifier"
   ]
  },
  {
   "cell_type": "markdown",
   "metadata": {},
   "source": [
    "Next, we split the data into train and test."
   ]
  },
  {
   "cell_type": "code",
   "execution_count": 18,
   "metadata": {},
   "outputs": [],
   "source": [
    "X_train, X_test, y_train, y_test = train_test_split(data['cleaned_log'], data.label, test_size=0.2)"
   ]
  },
  {
   "cell_type": "markdown",
   "metadata": {},
   "source": [
    "Creating a separate data frame for both train and test values"
   ]
  },
  {
   "cell_type": "code",
   "execution_count": 19,
   "metadata": {},
   "outputs": [],
   "source": [
    "data_train = pd.DataFrame({'training_data': X_train, 'label': y_train})"
   ]
  },
  {
   "cell_type": "code",
   "execution_count": 20,
   "metadata": {},
   "outputs": [],
   "source": [
    "data_train = data_train.reset_index()"
   ]
  },
  {
   "cell_type": "code",
   "execution_count": 21,
   "metadata": {},
   "outputs": [
    {
     "data": {
      "text/html": [
       "<div>\n",
       "<style scoped>\n",
       "    .dataframe tbody tr th:only-of-type {\n",
       "        vertical-align: middle;\n",
       "    }\n",
       "\n",
       "    .dataframe tbody tr th {\n",
       "        vertical-align: top;\n",
       "    }\n",
       "\n",
       "    .dataframe thead th {\n",
       "        text-align: right;\n",
       "    }\n",
       "</style>\n",
       "<table border=\"1\" class=\"dataframe\">\n",
       "  <thead>\n",
       "    <tr style=\"text-align: right;\">\n",
       "      <th></th>\n",
       "      <th>index</th>\n",
       "      <th>training_data</th>\n",
       "      <th>label</th>\n",
       "    </tr>\n",
       "  </thead>\n",
       "  <tbody>\n",
       "    <tr>\n",
       "      <th>0</th>\n",
       "      <td>151</td>\n",
       "      <td>activ probe process probe status processcr pro...</td>\n",
       "      <td>ClosingChrome</td>\n",
       "    </tr>\n",
       "    <tr>\n",
       "      <th>1</th>\n",
       "      <td>43</td>\n",
       "      <td>activ probe process probe status processcr pro...</td>\n",
       "      <td>ClosingChrome</td>\n",
       "    </tr>\n",
       "    <tr>\n",
       "      <th>2</th>\n",
       "      <td>383</td>\n",
       "      <td>activ probe process probe status processdelet ...</td>\n",
       "      <td>ClosingEclipse</td>\n",
       "    </tr>\n",
       "    <tr>\n",
       "      <th>3</th>\n",
       "      <td>366</td>\n",
       "      <td>activ probe process probe status processdelet ...</td>\n",
       "      <td>OpeningEclipse</td>\n",
       "    </tr>\n",
       "    <tr>\n",
       "      <th>4</th>\n",
       "      <td>422</td>\n",
       "      <td>activ probe process probe status processdelet ...</td>\n",
       "      <td>ClosingEclipse</td>\n",
       "    </tr>\n",
       "    <tr>\n",
       "      <th>...</th>\n",
       "      <td>...</td>\n",
       "      <td>...</td>\n",
       "      <td>...</td>\n",
       "    </tr>\n",
       "    <tr>\n",
       "      <th>475</th>\n",
       "      <td>369</td>\n",
       "      <td>activ probe fileresourc probe status creat pat...</td>\n",
       "      <td>ClosingEclipse</td>\n",
       "    </tr>\n",
       "    <tr>\n",
       "      <th>476</th>\n",
       "      <td>465</td>\n",
       "      <td>activ probe fileresourc probe status chang pat...</td>\n",
       "      <td>CreatingNewFolder</td>\n",
       "    </tr>\n",
       "    <tr>\n",
       "      <th>477</th>\n",
       "      <td>449</td>\n",
       "      <td>activ probe fileresourc probe status chang pat...</td>\n",
       "      <td>DeletingFolder</td>\n",
       "    </tr>\n",
       "    <tr>\n",
       "      <th>478</th>\n",
       "      <td>192</td>\n",
       "      <td>activ probe process probe status processcr pro...</td>\n",
       "      <td>ClosingChrome</td>\n",
       "    </tr>\n",
       "    <tr>\n",
       "      <th>479</th>\n",
       "      <td>160</td>\n",
       "      <td>activ probe process probe status processcr pro...</td>\n",
       "      <td>OpeningChrome</td>\n",
       "    </tr>\n",
       "  </tbody>\n",
       "</table>\n",
       "<p>480 rows × 3 columns</p>\n",
       "</div>"
      ],
      "text/plain": [
       "     index                                      training_data  \\\n",
       "0      151  activ probe process probe status processcr pro...   \n",
       "1       43  activ probe process probe status processcr pro...   \n",
       "2      383  activ probe process probe status processdelet ...   \n",
       "3      366  activ probe process probe status processdelet ...   \n",
       "4      422  activ probe process probe status processdelet ...   \n",
       "..     ...                                                ...   \n",
       "475    369  activ probe fileresourc probe status creat pat...   \n",
       "476    465  activ probe fileresourc probe status chang pat...   \n",
       "477    449  activ probe fileresourc probe status chang pat...   \n",
       "478    192  activ probe process probe status processcr pro...   \n",
       "479    160  activ probe process probe status processcr pro...   \n",
       "\n",
       "                 label  \n",
       "0        ClosingChrome  \n",
       "1        ClosingChrome  \n",
       "2       ClosingEclipse  \n",
       "3       OpeningEclipse  \n",
       "4       ClosingEclipse  \n",
       "..                 ...  \n",
       "475     ClosingEclipse  \n",
       "476  CreatingNewFolder  \n",
       "477     DeletingFolder  \n",
       "478      ClosingChrome  \n",
       "479      OpeningChrome  \n",
       "\n",
       "[480 rows x 3 columns]"
      ]
     },
     "execution_count": 21,
     "metadata": {},
     "output_type": "execute_result"
    }
   ],
   "source": [
    "data_train"
   ]
  },
  {
   "cell_type": "code",
   "execution_count": 22,
   "metadata": {},
   "outputs": [],
   "source": [
    "data_test = pd.DataFrame({'testing_data': X_test, 'label': y_test})"
   ]
  },
  {
   "cell_type": "code",
   "execution_count": 23,
   "metadata": {},
   "outputs": [],
   "source": [
    "data_test = data_test.reset_index()"
   ]
  },
  {
   "cell_type": "code",
   "execution_count": 24,
   "metadata": {
    "scrolled": true
   },
   "outputs": [
    {
     "data": {
      "text/html": [
       "<div>\n",
       "<style scoped>\n",
       "    .dataframe tbody tr th:only-of-type {\n",
       "        vertical-align: middle;\n",
       "    }\n",
       "\n",
       "    .dataframe tbody tr th {\n",
       "        vertical-align: top;\n",
       "    }\n",
       "\n",
       "    .dataframe thead th {\n",
       "        text-align: right;\n",
       "    }\n",
       "</style>\n",
       "<table border=\"1\" class=\"dataframe\">\n",
       "  <thead>\n",
       "    <tr style=\"text-align: right;\">\n",
       "      <th></th>\n",
       "      <th>index</th>\n",
       "      <th>testing_data</th>\n",
       "      <th>label</th>\n",
       "    </tr>\n",
       "  </thead>\n",
       "  <tbody>\n",
       "    <tr>\n",
       "      <th>0</th>\n",
       "      <td>30</td>\n",
       "      <td>activ probe process probe status processcr pro...</td>\n",
       "      <td>OpeningChrome</td>\n",
       "    </tr>\n",
       "    <tr>\n",
       "      <th>1</th>\n",
       "      <td>309</td>\n",
       "      <td>activ probe process probe status processcr pro...</td>\n",
       "      <td>CreatingNewFolder</td>\n",
       "    </tr>\n",
       "    <tr>\n",
       "      <th>2</th>\n",
       "      <td>216</td>\n",
       "      <td>activ probe process probe status processdelet ...</td>\n",
       "      <td>OpeningEclipse</td>\n",
       "    </tr>\n",
       "    <tr>\n",
       "      <th>3</th>\n",
       "      <td>526</td>\n",
       "      <td>activ probe fileresourc probe status delet pat...</td>\n",
       "      <td>DeletingFolder</td>\n",
       "    </tr>\n",
       "    <tr>\n",
       "      <th>4</th>\n",
       "      <td>54</td>\n",
       "      <td>activ probe process probe status processdelet ...</td>\n",
       "      <td>ClosingEclipse</td>\n",
       "    </tr>\n",
       "    <tr>\n",
       "      <th>...</th>\n",
       "      <td>...</td>\n",
       "      <td>...</td>\n",
       "      <td>...</td>\n",
       "    </tr>\n",
       "    <tr>\n",
       "      <th>115</th>\n",
       "      <td>382</td>\n",
       "      <td>activ probe process probe status processcr pro...</td>\n",
       "      <td>CreatingNewFolder</td>\n",
       "    </tr>\n",
       "    <tr>\n",
       "      <th>116</th>\n",
       "      <td>157</td>\n",
       "      <td>activ probe process probe status processcr pro...</td>\n",
       "      <td>CreatingNewFolder</td>\n",
       "    </tr>\n",
       "    <tr>\n",
       "      <th>117</th>\n",
       "      <td>292</td>\n",
       "      <td>activ probe fileresourc probe status chang pat...</td>\n",
       "      <td>ClosingEclipse</td>\n",
       "    </tr>\n",
       "    <tr>\n",
       "      <th>118</th>\n",
       "      <td>457</td>\n",
       "      <td>activ probe fileresourc probe status delet pat...</td>\n",
       "      <td>DeletingFolder</td>\n",
       "    </tr>\n",
       "    <tr>\n",
       "      <th>119</th>\n",
       "      <td>224</td>\n",
       "      <td>activ probe windowslogrt probe status applicat...</td>\n",
       "      <td>OpeningEclipse</td>\n",
       "    </tr>\n",
       "  </tbody>\n",
       "</table>\n",
       "<p>120 rows × 3 columns</p>\n",
       "</div>"
      ],
      "text/plain": [
       "     index                                       testing_data  \\\n",
       "0       30  activ probe process probe status processcr pro...   \n",
       "1      309  activ probe process probe status processcr pro...   \n",
       "2      216  activ probe process probe status processdelet ...   \n",
       "3      526  activ probe fileresourc probe status delet pat...   \n",
       "4       54  activ probe process probe status processdelet ...   \n",
       "..     ...                                                ...   \n",
       "115    382  activ probe process probe status processcr pro...   \n",
       "116    157  activ probe process probe status processcr pro...   \n",
       "117    292  activ probe fileresourc probe status chang pat...   \n",
       "118    457  activ probe fileresourc probe status delet pat...   \n",
       "119    224  activ probe windowslogrt probe status applicat...   \n",
       "\n",
       "                 label  \n",
       "0        OpeningChrome  \n",
       "1    CreatingNewFolder  \n",
       "2       OpeningEclipse  \n",
       "3       DeletingFolder  \n",
       "4       ClosingEclipse  \n",
       "..                 ...  \n",
       "115  CreatingNewFolder  \n",
       "116  CreatingNewFolder  \n",
       "117     ClosingEclipse  \n",
       "118     DeletingFolder  \n",
       "119     OpeningEclipse  \n",
       "\n",
       "[120 rows x 3 columns]"
      ]
     },
     "execution_count": 24,
     "metadata": {},
     "output_type": "execute_result"
    }
   ],
   "source": [
    "data_test"
   ]
  },
  {
   "cell_type": "markdown",
   "metadata": {},
   "source": [
    "Initializing the count vectorizer."
   ]
  },
  {
   "cell_type": "code",
   "execution_count": 25,
   "metadata": {},
   "outputs": [],
   "source": [
    "count_vect = CountVectorizer()"
   ]
  },
  {
   "cell_type": "markdown",
   "metadata": {},
   "source": [
    "Next, I applied fit and transform on the 'training data' column from the training dataframe using the count vectorizer which creates a count matrix "
   ]
  },
  {
   "cell_type": "code",
   "execution_count": 26,
   "metadata": {},
   "outputs": [],
   "source": [
    "X_train_counts = count_vect.fit_transform(data_train['training_data'])"
   ]
  },
  {
   "cell_type": "markdown",
   "metadata": {},
   "source": [
    "Then, initializing theTfidfTransformer()"
   ]
  },
  {
   "cell_type": "code",
   "execution_count": 27,
   "metadata": {},
   "outputs": [],
   "source": [
    "tfidf_transformer = TfidfTransformer()"
   ]
  },
  {
   "cell_type": "markdown",
   "metadata": {},
   "source": [
    "Then, using the TfidfTransformer, I convert the count matrix to a normalized tf-idf matrix"
   ]
  },
  {
   "cell_type": "code",
   "execution_count": 28,
   "metadata": {},
   "outputs": [],
   "source": [
    "X_train_tfidf = tfidf_transformer.fit_transform(X_train_counts)"
   ]
  },
  {
   "cell_type": "markdown",
   "metadata": {},
   "source": [
    "Initializing the Multinomial Naive Bayes Classifier"
   ]
  },
  {
   "cell_type": "code",
   "execution_count": 29,
   "metadata": {},
   "outputs": [],
   "source": [
    "clf_MultiNB = MultinomialNB()"
   ]
  },
  {
   "cell_type": "markdown",
   "metadata": {},
   "source": [
    "Fitting the Multinomial Naive Bayes Classifier with the training data"
   ]
  },
  {
   "cell_type": "code",
   "execution_count": 30,
   "metadata": {},
   "outputs": [
    {
     "data": {
      "text/plain": [
       "MultinomialNB(alpha=1.0, class_prior=None, fit_prior=True)"
      ]
     },
     "execution_count": 30,
     "metadata": {},
     "output_type": "execute_result"
    }
   ],
   "source": [
    "clf_MultiNB.fit(X_train_tfidf, y_train)"
   ]
  },
  {
   "cell_type": "markdown",
   "metadata": {},
   "source": [
    "Creating an empty series called 'MultiNB'"
   ]
  },
  {
   "cell_type": "code",
   "execution_count": 31,
   "metadata": {
    "scrolled": true
   },
   "outputs": [
    {
     "name": "stderr",
     "output_type": "stream",
     "text": [
      "C:\\ProgramData\\Anaconda3\\lib\\site-packages\\ipykernel_launcher.py:1: DeprecationWarning: The default dtype for empty Series will be 'object' instead of 'float64' in a future version. Specify a dtype explicitly to silence this warning.\n",
      "  \"\"\"Entry point for launching an IPython kernel.\n"
     ]
    }
   ],
   "source": [
    "MultiNB = pd.Series([])"
   ]
  },
  {
   "cell_type": "markdown",
   "metadata": {},
   "source": [
    "Now looping through each row of the testing dataframe and then using the multinomial naive bayes classifier, predicting the label of the of the log from the 'testing data' column and then putting the predicted value into the 'MultiNB' dataseries created earlier. Then, at the end of the loop adding the dataseries as a new column in the dataframe"
   ]
  },
  {
   "cell_type": "code",
   "execution_count": 32,
   "metadata": {},
   "outputs": [],
   "source": [
    "for index, rows in data_test.iterrows():\n",
    "    prediction = clf_MultiNB.predict(count_vect.transform([data_test['testing_data'][index]]))\n",
    "    MultiNB[index] = prediction[0]\n",
    "data_test.insert(3, \"Multi-NB\", MultiNB) "
   ]
  },
  {
   "cell_type": "code",
   "execution_count": 33,
   "metadata": {},
   "outputs": [
    {
     "data": {
      "text/html": [
       "<div>\n",
       "<style scoped>\n",
       "    .dataframe tbody tr th:only-of-type {\n",
       "        vertical-align: middle;\n",
       "    }\n",
       "\n",
       "    .dataframe tbody tr th {\n",
       "        vertical-align: top;\n",
       "    }\n",
       "\n",
       "    .dataframe thead th {\n",
       "        text-align: right;\n",
       "    }\n",
       "</style>\n",
       "<table border=\"1\" class=\"dataframe\">\n",
       "  <thead>\n",
       "    <tr style=\"text-align: right;\">\n",
       "      <th></th>\n",
       "      <th>index</th>\n",
       "      <th>testing_data</th>\n",
       "      <th>label</th>\n",
       "      <th>Multi-NB</th>\n",
       "    </tr>\n",
       "  </thead>\n",
       "  <tbody>\n",
       "    <tr>\n",
       "      <th>0</th>\n",
       "      <td>30</td>\n",
       "      <td>activ probe process probe status processcr pro...</td>\n",
       "      <td>OpeningChrome</td>\n",
       "      <td>OpeningChrome</td>\n",
       "    </tr>\n",
       "    <tr>\n",
       "      <th>1</th>\n",
       "      <td>309</td>\n",
       "      <td>activ probe process probe status processcr pro...</td>\n",
       "      <td>CreatingNewFolder</td>\n",
       "      <td>CreatingNewFolder</td>\n",
       "    </tr>\n",
       "    <tr>\n",
       "      <th>2</th>\n",
       "      <td>216</td>\n",
       "      <td>activ probe process probe status processdelet ...</td>\n",
       "      <td>OpeningEclipse</td>\n",
       "      <td>OpeningEclipse</td>\n",
       "    </tr>\n",
       "    <tr>\n",
       "      <th>3</th>\n",
       "      <td>526</td>\n",
       "      <td>activ probe fileresourc probe status delet pat...</td>\n",
       "      <td>DeletingFolder</td>\n",
       "      <td>DeletingFolder</td>\n",
       "    </tr>\n",
       "    <tr>\n",
       "      <th>4</th>\n",
       "      <td>54</td>\n",
       "      <td>activ probe process probe status processdelet ...</td>\n",
       "      <td>ClosingEclipse</td>\n",
       "      <td>ClosingEclipse</td>\n",
       "    </tr>\n",
       "    <tr>\n",
       "      <th>...</th>\n",
       "      <td>...</td>\n",
       "      <td>...</td>\n",
       "      <td>...</td>\n",
       "      <td>...</td>\n",
       "    </tr>\n",
       "    <tr>\n",
       "      <th>115</th>\n",
       "      <td>382</td>\n",
       "      <td>activ probe process probe status processcr pro...</td>\n",
       "      <td>CreatingNewFolder</td>\n",
       "      <td>OpeningEclipse</td>\n",
       "    </tr>\n",
       "    <tr>\n",
       "      <th>116</th>\n",
       "      <td>157</td>\n",
       "      <td>activ probe process probe status processcr pro...</td>\n",
       "      <td>CreatingNewFolder</td>\n",
       "      <td>CreatingNewFolder</td>\n",
       "    </tr>\n",
       "    <tr>\n",
       "      <th>117</th>\n",
       "      <td>292</td>\n",
       "      <td>activ probe fileresourc probe status chang pat...</td>\n",
       "      <td>ClosingEclipse</td>\n",
       "      <td>ClosingEclipse</td>\n",
       "    </tr>\n",
       "    <tr>\n",
       "      <th>118</th>\n",
       "      <td>457</td>\n",
       "      <td>activ probe fileresourc probe status delet pat...</td>\n",
       "      <td>DeletingFolder</td>\n",
       "      <td>DeletingFolder</td>\n",
       "    </tr>\n",
       "    <tr>\n",
       "      <th>119</th>\n",
       "      <td>224</td>\n",
       "      <td>activ probe windowslogrt probe status applicat...</td>\n",
       "      <td>OpeningEclipse</td>\n",
       "      <td>OpeningEclipse</td>\n",
       "    </tr>\n",
       "  </tbody>\n",
       "</table>\n",
       "<p>120 rows × 4 columns</p>\n",
       "</div>"
      ],
      "text/plain": [
       "     index                                       testing_data  \\\n",
       "0       30  activ probe process probe status processcr pro...   \n",
       "1      309  activ probe process probe status processcr pro...   \n",
       "2      216  activ probe process probe status processdelet ...   \n",
       "3      526  activ probe fileresourc probe status delet pat...   \n",
       "4       54  activ probe process probe status processdelet ...   \n",
       "..     ...                                                ...   \n",
       "115    382  activ probe process probe status processcr pro...   \n",
       "116    157  activ probe process probe status processcr pro...   \n",
       "117    292  activ probe fileresourc probe status chang pat...   \n",
       "118    457  activ probe fileresourc probe status delet pat...   \n",
       "119    224  activ probe windowslogrt probe status applicat...   \n",
       "\n",
       "                 label           Multi-NB  \n",
       "0        OpeningChrome      OpeningChrome  \n",
       "1    CreatingNewFolder  CreatingNewFolder  \n",
       "2       OpeningEclipse     OpeningEclipse  \n",
       "3       DeletingFolder     DeletingFolder  \n",
       "4       ClosingEclipse     ClosingEclipse  \n",
       "..                 ...                ...  \n",
       "115  CreatingNewFolder     OpeningEclipse  \n",
       "116  CreatingNewFolder  CreatingNewFolder  \n",
       "117     ClosingEclipse     ClosingEclipse  \n",
       "118     DeletingFolder     DeletingFolder  \n",
       "119     OpeningEclipse     OpeningEclipse  \n",
       "\n",
       "[120 rows x 4 columns]"
      ]
     },
     "execution_count": 33,
     "metadata": {},
     "output_type": "execute_result"
    }
   ],
   "source": [
    "data_test"
   ]
  },
  {
   "cell_type": "markdown",
   "metadata": {},
   "source": [
    "Now I tried to load some unlabeled new event log files and tried to find the label "
   ]
  },
  {
   "cell_type": "code",
   "execution_count": 35,
   "metadata": {},
   "outputs": [],
   "source": [
    "os.chdir(r'C:\\Users\\datta\\AppData\\Local\\UsageProbeLogs\\UnlabeledLogs')"
   ]
  },
  {
   "cell_type": "code",
   "execution_count": 36,
   "metadata": {},
   "outputs": [],
   "source": [
    "files_new = glob.glob('*.json')"
   ]
  },
  {
   "cell_type": "code",
   "execution_count": 37,
   "metadata": {
    "scrolled": true
   },
   "outputs": [],
   "source": [
    "data_new = pd.DataFrame([])\n",
    "for file in files_new:\n",
    "    with open(file, \"r\") as upoLogFile:\n",
    "        #print(file)\n",
    "        log_str = \"\"\n",
    "        logdata = json.load(upoLogFile, object_pairs_hook=tuple)\n",
    "        for value in recursive_items(logdata):\n",
    "            if type(value) == str :\n",
    "                log_str = log_str + value + \" \"\n",
    "            elif type(value) == int:\n",
    "                log_str = log_str + str(value) + \" \"\n",
    "            elif type(value) == bool:\n",
    "                log_str = log_str + str(value) + \" \"\n",
    "            elif type(value) == list:\n",
    "                log_str = log_str + \" \".join(value) + \" \"\n",
    "        data_new = data_new.append(pd.DataFrame({'log' :  log_str}, index=[0]), ignore_index=True)\n"
   ]
  },
  {
   "cell_type": "code",
   "execution_count": 38,
   "metadata": {
    "scrolled": true
   },
   "outputs": [
    {
     "data": {
      "text/html": [
       "<div>\n",
       "<style scoped>\n",
       "    .dataframe tbody tr th:only-of-type {\n",
       "        vertical-align: middle;\n",
       "    }\n",
       "\n",
       "    .dataframe tbody tr th {\n",
       "        vertical-align: top;\n",
       "    }\n",
       "\n",
       "    .dataframe thead th {\n",
       "        text-align: right;\n",
       "    }\n",
       "</style>\n",
       "<table border=\"1\" class=\"dataframe\">\n",
       "  <thead>\n",
       "    <tr style=\"text-align: right;\">\n",
       "      <th></th>\n",
       "      <th>log</th>\n",
       "    </tr>\n",
       "  </thead>\n",
       "  <tbody>\n",
       "    <tr>\n",
       "      <th>0</th>\n",
       "      <td>activity probe PROCESS_PROBE status ProcessCre...</td>\n",
       "    </tr>\n",
       "    <tr>\n",
       "      <th>1</th>\n",
       "      <td>activity probe PROCESS_PROBE status ProcessCre...</td>\n",
       "    </tr>\n",
       "    <tr>\n",
       "      <th>2</th>\n",
       "      <td>activity probe PROCESS_PROBE status ProcessCre...</td>\n",
       "    </tr>\n",
       "    <tr>\n",
       "      <th>3</th>\n",
       "      <td>activity probe PROCESS_PROBE status ProcessCre...</td>\n",
       "    </tr>\n",
       "    <tr>\n",
       "      <th>4</th>\n",
       "      <td>activity probe WINDOWSLOGRT_PROBE status Appli...</td>\n",
       "    </tr>\n",
       "    <tr>\n",
       "      <th>5</th>\n",
       "      <td>activity probe PROCESS_PROBE status ProcessCre...</td>\n",
       "    </tr>\n",
       "    <tr>\n",
       "      <th>6</th>\n",
       "      <td>activity probe PROCESS_PROBE status ProcessCre...</td>\n",
       "    </tr>\n",
       "    <tr>\n",
       "      <th>7</th>\n",
       "      <td>activity probe FILERESOURCE_PROBE status Chang...</td>\n",
       "    </tr>\n",
       "    <tr>\n",
       "      <th>8</th>\n",
       "      <td>activity probe FILERESOURCE_PROBE status Chang...</td>\n",
       "    </tr>\n",
       "    <tr>\n",
       "      <th>9</th>\n",
       "      <td>activity probe PROCESS_PROBE status ProcessCre...</td>\n",
       "    </tr>\n",
       "    <tr>\n",
       "      <th>10</th>\n",
       "      <td>activity probe FILERESOURCE_PROBE status Delet...</td>\n",
       "    </tr>\n",
       "    <tr>\n",
       "      <th>11</th>\n",
       "      <td>activity probe PROCESS_PROBE status ProcessDel...</td>\n",
       "    </tr>\n",
       "    <tr>\n",
       "      <th>12</th>\n",
       "      <td>activity probe PROCESS_PROBE status ProcessCre...</td>\n",
       "    </tr>\n",
       "    <tr>\n",
       "      <th>13</th>\n",
       "      <td>activity probe PROCESS_PROBE status ProcessCre...</td>\n",
       "    </tr>\n",
       "    <tr>\n",
       "      <th>14</th>\n",
       "      <td>activity probe PROCESS_PROBE status ProcessDel...</td>\n",
       "    </tr>\n",
       "    <tr>\n",
       "      <th>15</th>\n",
       "      <td>activity probe PROCESS_PROBE status ProcessDel...</td>\n",
       "    </tr>\n",
       "    <tr>\n",
       "      <th>16</th>\n",
       "      <td>activity probe PROCESS_PROBE status ProcessDel...</td>\n",
       "    </tr>\n",
       "    <tr>\n",
       "      <th>17</th>\n",
       "      <td>end machineName DESKTOP-QTO1PSM currentDirecto...</td>\n",
       "    </tr>\n",
       "    <tr>\n",
       "      <th>18</th>\n",
       "      <td>activity probe PROCESS_PROBE status ProcessDel...</td>\n",
       "    </tr>\n",
       "    <tr>\n",
       "      <th>19</th>\n",
       "      <td>activity probe PROCESS_PROBE status ProcessDel...</td>\n",
       "    </tr>\n",
       "    <tr>\n",
       "      <th>20</th>\n",
       "      <td>activity probe PROCESS_PROBE status ProcessDel...</td>\n",
       "    </tr>\n",
       "    <tr>\n",
       "      <th>21</th>\n",
       "      <td>activity probe PROCESS_PROBE status ProcessCre...</td>\n",
       "    </tr>\n",
       "  </tbody>\n",
       "</table>\n",
       "</div>"
      ],
      "text/plain": [
       "                                                  log\n",
       "0   activity probe PROCESS_PROBE status ProcessCre...\n",
       "1   activity probe PROCESS_PROBE status ProcessCre...\n",
       "2   activity probe PROCESS_PROBE status ProcessCre...\n",
       "3   activity probe PROCESS_PROBE status ProcessCre...\n",
       "4   activity probe WINDOWSLOGRT_PROBE status Appli...\n",
       "5   activity probe PROCESS_PROBE status ProcessCre...\n",
       "6   activity probe PROCESS_PROBE status ProcessCre...\n",
       "7   activity probe FILERESOURCE_PROBE status Chang...\n",
       "8   activity probe FILERESOURCE_PROBE status Chang...\n",
       "9   activity probe PROCESS_PROBE status ProcessCre...\n",
       "10  activity probe FILERESOURCE_PROBE status Delet...\n",
       "11  activity probe PROCESS_PROBE status ProcessDel...\n",
       "12  activity probe PROCESS_PROBE status ProcessCre...\n",
       "13  activity probe PROCESS_PROBE status ProcessCre...\n",
       "14  activity probe PROCESS_PROBE status ProcessDel...\n",
       "15  activity probe PROCESS_PROBE status ProcessDel...\n",
       "16  activity probe PROCESS_PROBE status ProcessDel...\n",
       "17  end machineName DESKTOP-QTO1PSM currentDirecto...\n",
       "18  activity probe PROCESS_PROBE status ProcessDel...\n",
       "19  activity probe PROCESS_PROBE status ProcessDel...\n",
       "20  activity probe PROCESS_PROBE status ProcessDel...\n",
       "21  activity probe PROCESS_PROBE status ProcessCre..."
      ]
     },
     "execution_count": 38,
     "metadata": {},
     "output_type": "execute_result"
    }
   ],
   "source": [
    "data_new"
   ]
  },
  {
   "cell_type": "code",
   "execution_count": 39,
   "metadata": {},
   "outputs": [],
   "source": [
    "data_new['cleaned'] = data_new['log'].apply(lambda x: \" \".join([stemmer.stem(i) for i in re.sub(\"[^a-zA-Z]\", \" \", x).split() if i not in words]).lower())"
   ]
  },
  {
   "cell_type": "code",
   "execution_count": 40,
   "metadata": {
    "scrolled": false
   },
   "outputs": [
    {
     "data": {
      "text/html": [
       "<div>\n",
       "<style scoped>\n",
       "    .dataframe tbody tr th:only-of-type {\n",
       "        vertical-align: middle;\n",
       "    }\n",
       "\n",
       "    .dataframe tbody tr th {\n",
       "        vertical-align: top;\n",
       "    }\n",
       "\n",
       "    .dataframe thead th {\n",
       "        text-align: right;\n",
       "    }\n",
       "</style>\n",
       "<table border=\"1\" class=\"dataframe\">\n",
       "  <thead>\n",
       "    <tr style=\"text-align: right;\">\n",
       "      <th></th>\n",
       "      <th>log</th>\n",
       "      <th>cleaned</th>\n",
       "    </tr>\n",
       "  </thead>\n",
       "  <tbody>\n",
       "    <tr>\n",
       "      <th>0</th>\n",
       "      <td>activity probe PROCESS_PROBE status ProcessCre...</td>\n",
       "      <td>activ probe process probe status processcr pro...</td>\n",
       "    </tr>\n",
       "    <tr>\n",
       "      <th>1</th>\n",
       "      <td>activity probe PROCESS_PROBE status ProcessCre...</td>\n",
       "      <td>activ probe process probe status processcr pro...</td>\n",
       "    </tr>\n",
       "    <tr>\n",
       "      <th>2</th>\n",
       "      <td>activity probe PROCESS_PROBE status ProcessCre...</td>\n",
       "      <td>activ probe process probe status processcr pro...</td>\n",
       "    </tr>\n",
       "    <tr>\n",
       "      <th>3</th>\n",
       "      <td>activity probe PROCESS_PROBE status ProcessCre...</td>\n",
       "      <td>activ probe process probe status processcr pro...</td>\n",
       "    </tr>\n",
       "    <tr>\n",
       "      <th>4</th>\n",
       "      <td>activity probe WINDOWSLOGRT_PROBE status Appli...</td>\n",
       "      <td>activ probe windowslogrt probe status applicat...</td>\n",
       "    </tr>\n",
       "    <tr>\n",
       "      <th>5</th>\n",
       "      <td>activity probe PROCESS_PROBE status ProcessCre...</td>\n",
       "      <td>activ probe process probe status processcr pro...</td>\n",
       "    </tr>\n",
       "    <tr>\n",
       "      <th>6</th>\n",
       "      <td>activity probe PROCESS_PROBE status ProcessCre...</td>\n",
       "      <td>activ probe process probe status processcr pro...</td>\n",
       "    </tr>\n",
       "    <tr>\n",
       "      <th>7</th>\n",
       "      <td>activity probe FILERESOURCE_PROBE status Chang...</td>\n",
       "      <td>activ probe fileresourc probe status chang pat...</td>\n",
       "    </tr>\n",
       "    <tr>\n",
       "      <th>8</th>\n",
       "      <td>activity probe FILERESOURCE_PROBE status Chang...</td>\n",
       "      <td>activ probe fileresourc probe status chang pat...</td>\n",
       "    </tr>\n",
       "    <tr>\n",
       "      <th>9</th>\n",
       "      <td>activity probe PROCESS_PROBE status ProcessCre...</td>\n",
       "      <td>activ probe process probe status processcr pro...</td>\n",
       "    </tr>\n",
       "    <tr>\n",
       "      <th>10</th>\n",
       "      <td>activity probe FILERESOURCE_PROBE status Delet...</td>\n",
       "      <td>activ probe fileresourc probe status delet pat...</td>\n",
       "    </tr>\n",
       "    <tr>\n",
       "      <th>11</th>\n",
       "      <td>activity probe PROCESS_PROBE status ProcessDel...</td>\n",
       "      <td>activ probe process probe status processdelet ...</td>\n",
       "    </tr>\n",
       "    <tr>\n",
       "      <th>12</th>\n",
       "      <td>activity probe PROCESS_PROBE status ProcessCre...</td>\n",
       "      <td>activ probe process probe status processcr pro...</td>\n",
       "    </tr>\n",
       "    <tr>\n",
       "      <th>13</th>\n",
       "      <td>activity probe PROCESS_PROBE status ProcessCre...</td>\n",
       "      <td>activ probe process probe status processcr pro...</td>\n",
       "    </tr>\n",
       "    <tr>\n",
       "      <th>14</th>\n",
       "      <td>activity probe PROCESS_PROBE status ProcessDel...</td>\n",
       "      <td>activ probe process probe status processdelet ...</td>\n",
       "    </tr>\n",
       "    <tr>\n",
       "      <th>15</th>\n",
       "      <td>activity probe PROCESS_PROBE status ProcessDel...</td>\n",
       "      <td>activ probe process probe status processdelet ...</td>\n",
       "    </tr>\n",
       "    <tr>\n",
       "      <th>16</th>\n",
       "      <td>activity probe PROCESS_PROBE status ProcessDel...</td>\n",
       "      <td>activ probe process probe status processdelet ...</td>\n",
       "    </tr>\n",
       "    <tr>\n",
       "      <th>17</th>\n",
       "      <td>end machineName DESKTOP-QTO1PSM currentDirecto...</td>\n",
       "      <td>end machinenam desktop qto psm currentdirector...</td>\n",
       "    </tr>\n",
       "    <tr>\n",
       "      <th>18</th>\n",
       "      <td>activity probe PROCESS_PROBE status ProcessDel...</td>\n",
       "      <td>activ probe process probe status processdelet ...</td>\n",
       "    </tr>\n",
       "    <tr>\n",
       "      <th>19</th>\n",
       "      <td>activity probe PROCESS_PROBE status ProcessDel...</td>\n",
       "      <td>activ probe process probe status processdelet ...</td>\n",
       "    </tr>\n",
       "    <tr>\n",
       "      <th>20</th>\n",
       "      <td>activity probe PROCESS_PROBE status ProcessDel...</td>\n",
       "      <td>activ probe process probe status processdelet ...</td>\n",
       "    </tr>\n",
       "    <tr>\n",
       "      <th>21</th>\n",
       "      <td>activity probe PROCESS_PROBE status ProcessCre...</td>\n",
       "      <td>activ probe process probe status processcr pro...</td>\n",
       "    </tr>\n",
       "  </tbody>\n",
       "</table>\n",
       "</div>"
      ],
      "text/plain": [
       "                                                  log  \\\n",
       "0   activity probe PROCESS_PROBE status ProcessCre...   \n",
       "1   activity probe PROCESS_PROBE status ProcessCre...   \n",
       "2   activity probe PROCESS_PROBE status ProcessCre...   \n",
       "3   activity probe PROCESS_PROBE status ProcessCre...   \n",
       "4   activity probe WINDOWSLOGRT_PROBE status Appli...   \n",
       "5   activity probe PROCESS_PROBE status ProcessCre...   \n",
       "6   activity probe PROCESS_PROBE status ProcessCre...   \n",
       "7   activity probe FILERESOURCE_PROBE status Chang...   \n",
       "8   activity probe FILERESOURCE_PROBE status Chang...   \n",
       "9   activity probe PROCESS_PROBE status ProcessCre...   \n",
       "10  activity probe FILERESOURCE_PROBE status Delet...   \n",
       "11  activity probe PROCESS_PROBE status ProcessDel...   \n",
       "12  activity probe PROCESS_PROBE status ProcessCre...   \n",
       "13  activity probe PROCESS_PROBE status ProcessCre...   \n",
       "14  activity probe PROCESS_PROBE status ProcessDel...   \n",
       "15  activity probe PROCESS_PROBE status ProcessDel...   \n",
       "16  activity probe PROCESS_PROBE status ProcessDel...   \n",
       "17  end machineName DESKTOP-QTO1PSM currentDirecto...   \n",
       "18  activity probe PROCESS_PROBE status ProcessDel...   \n",
       "19  activity probe PROCESS_PROBE status ProcessDel...   \n",
       "20  activity probe PROCESS_PROBE status ProcessDel...   \n",
       "21  activity probe PROCESS_PROBE status ProcessCre...   \n",
       "\n",
       "                                              cleaned  \n",
       "0   activ probe process probe status processcr pro...  \n",
       "1   activ probe process probe status processcr pro...  \n",
       "2   activ probe process probe status processcr pro...  \n",
       "3   activ probe process probe status processcr pro...  \n",
       "4   activ probe windowslogrt probe status applicat...  \n",
       "5   activ probe process probe status processcr pro...  \n",
       "6   activ probe process probe status processcr pro...  \n",
       "7   activ probe fileresourc probe status chang pat...  \n",
       "8   activ probe fileresourc probe status chang pat...  \n",
       "9   activ probe process probe status processcr pro...  \n",
       "10  activ probe fileresourc probe status delet pat...  \n",
       "11  activ probe process probe status processdelet ...  \n",
       "12  activ probe process probe status processcr pro...  \n",
       "13  activ probe process probe status processcr pro...  \n",
       "14  activ probe process probe status processdelet ...  \n",
       "15  activ probe process probe status processdelet ...  \n",
       "16  activ probe process probe status processdelet ...  \n",
       "17  end machinenam desktop qto psm currentdirector...  \n",
       "18  activ probe process probe status processdelet ...  \n",
       "19  activ probe process probe status processdelet ...  \n",
       "20  activ probe process probe status processdelet ...  \n",
       "21  activ probe process probe status processcr pro...  "
      ]
     },
     "execution_count": 40,
     "metadata": {},
     "output_type": "execute_result"
    }
   ],
   "source": [
    "data_new"
   ]
  },
  {
   "cell_type": "code",
   "execution_count": 41,
   "metadata": {},
   "outputs": [],
   "source": [
    "for index, rows in data_new.iterrows():\n",
    "    prediction = clf_MultiNB.predict(count_vect.transform([data_new['cleaned'][index]]))\n",
    "    MultiNB[index] = prediction[0]\n",
    "data_new.insert(2, \"Predicted Label\", MultiNB) "
   ]
  },
  {
   "cell_type": "code",
   "execution_count": 42,
   "metadata": {},
   "outputs": [
    {
     "data": {
      "text/html": [
       "<div>\n",
       "<style scoped>\n",
       "    .dataframe tbody tr th:only-of-type {\n",
       "        vertical-align: middle;\n",
       "    }\n",
       "\n",
       "    .dataframe tbody tr th {\n",
       "        vertical-align: top;\n",
       "    }\n",
       "\n",
       "    .dataframe thead th {\n",
       "        text-align: right;\n",
       "    }\n",
       "</style>\n",
       "<table border=\"1\" class=\"dataframe\">\n",
       "  <thead>\n",
       "    <tr style=\"text-align: right;\">\n",
       "      <th></th>\n",
       "      <th>log</th>\n",
       "      <th>cleaned</th>\n",
       "      <th>Predicted Label</th>\n",
       "    </tr>\n",
       "  </thead>\n",
       "  <tbody>\n",
       "    <tr>\n",
       "      <th>0</th>\n",
       "      <td>activity probe PROCESS_PROBE status ProcessCre...</td>\n",
       "      <td>activ probe process probe status processcr pro...</td>\n",
       "      <td>ClosingChrome</td>\n",
       "    </tr>\n",
       "    <tr>\n",
       "      <th>1</th>\n",
       "      <td>activity probe PROCESS_PROBE status ProcessCre...</td>\n",
       "      <td>activ probe process probe status processcr pro...</td>\n",
       "      <td>OpeningEclipse</td>\n",
       "    </tr>\n",
       "    <tr>\n",
       "      <th>2</th>\n",
       "      <td>activity probe PROCESS_PROBE status ProcessCre...</td>\n",
       "      <td>activ probe process probe status processcr pro...</td>\n",
       "      <td>OpeningChrome</td>\n",
       "    </tr>\n",
       "    <tr>\n",
       "      <th>3</th>\n",
       "      <td>activity probe PROCESS_PROBE status ProcessCre...</td>\n",
       "      <td>activ probe process probe status processcr pro...</td>\n",
       "      <td>ClosingChrome</td>\n",
       "    </tr>\n",
       "    <tr>\n",
       "      <th>4</th>\n",
       "      <td>activity probe WINDOWSLOGRT_PROBE status Appli...</td>\n",
       "      <td>activ probe windowslogrt probe status applicat...</td>\n",
       "      <td>ClosingChrome</td>\n",
       "    </tr>\n",
       "    <tr>\n",
       "      <th>5</th>\n",
       "      <td>activity probe PROCESS_PROBE status ProcessCre...</td>\n",
       "      <td>activ probe process probe status processcr pro...</td>\n",
       "      <td>OpeningChrome</td>\n",
       "    </tr>\n",
       "    <tr>\n",
       "      <th>6</th>\n",
       "      <td>activity probe PROCESS_PROBE status ProcessCre...</td>\n",
       "      <td>activ probe process probe status processcr pro...</td>\n",
       "      <td>OpeningEclipse</td>\n",
       "    </tr>\n",
       "    <tr>\n",
       "      <th>7</th>\n",
       "      <td>activity probe FILERESOURCE_PROBE status Chang...</td>\n",
       "      <td>activ probe fileresourc probe status chang pat...</td>\n",
       "      <td>OpeningChrome</td>\n",
       "    </tr>\n",
       "    <tr>\n",
       "      <th>8</th>\n",
       "      <td>activity probe FILERESOURCE_PROBE status Chang...</td>\n",
       "      <td>activ probe fileresourc probe status chang pat...</td>\n",
       "      <td>OpeningEclipse</td>\n",
       "    </tr>\n",
       "    <tr>\n",
       "      <th>9</th>\n",
       "      <td>activity probe PROCESS_PROBE status ProcessCre...</td>\n",
       "      <td>activ probe process probe status processcr pro...</td>\n",
       "      <td>CreatingNewFolder</td>\n",
       "    </tr>\n",
       "    <tr>\n",
       "      <th>10</th>\n",
       "      <td>activity probe FILERESOURCE_PROBE status Delet...</td>\n",
       "      <td>activ probe fileresourc probe status delet pat...</td>\n",
       "      <td>DeletingFolder</td>\n",
       "    </tr>\n",
       "    <tr>\n",
       "      <th>11</th>\n",
       "      <td>activity probe PROCESS_PROBE status ProcessDel...</td>\n",
       "      <td>activ probe process probe status processdelet ...</td>\n",
       "      <td>ClosingChrome</td>\n",
       "    </tr>\n",
       "    <tr>\n",
       "      <th>12</th>\n",
       "      <td>activity probe PROCESS_PROBE status ProcessCre...</td>\n",
       "      <td>activ probe process probe status processcr pro...</td>\n",
       "      <td>ClosingChrome</td>\n",
       "    </tr>\n",
       "    <tr>\n",
       "      <th>13</th>\n",
       "      <td>activity probe PROCESS_PROBE status ProcessCre...</td>\n",
       "      <td>activ probe process probe status processcr pro...</td>\n",
       "      <td>ClosingChrome</td>\n",
       "    </tr>\n",
       "    <tr>\n",
       "      <th>14</th>\n",
       "      <td>activity probe PROCESS_PROBE status ProcessDel...</td>\n",
       "      <td>activ probe process probe status processdelet ...</td>\n",
       "      <td>ClosingChrome</td>\n",
       "    </tr>\n",
       "    <tr>\n",
       "      <th>15</th>\n",
       "      <td>activity probe PROCESS_PROBE status ProcessDel...</td>\n",
       "      <td>activ probe process probe status processdelet ...</td>\n",
       "      <td>ClosingChrome</td>\n",
       "    </tr>\n",
       "    <tr>\n",
       "      <th>16</th>\n",
       "      <td>activity probe PROCESS_PROBE status ProcessDel...</td>\n",
       "      <td>activ probe process probe status processdelet ...</td>\n",
       "      <td>ClosingChrome</td>\n",
       "    </tr>\n",
       "    <tr>\n",
       "      <th>17</th>\n",
       "      <td>end machineName DESKTOP-QTO1PSM currentDirecto...</td>\n",
       "      <td>end machinenam desktop qto psm currentdirector...</td>\n",
       "      <td>DeletingFolder</td>\n",
       "    </tr>\n",
       "    <tr>\n",
       "      <th>18</th>\n",
       "      <td>activity probe PROCESS_PROBE status ProcessDel...</td>\n",
       "      <td>activ probe process probe status processdelet ...</td>\n",
       "      <td>ClosingChrome</td>\n",
       "    </tr>\n",
       "    <tr>\n",
       "      <th>19</th>\n",
       "      <td>activity probe PROCESS_PROBE status ProcessDel...</td>\n",
       "      <td>activ probe process probe status processdelet ...</td>\n",
       "      <td>ClosingChrome</td>\n",
       "    </tr>\n",
       "    <tr>\n",
       "      <th>20</th>\n",
       "      <td>activity probe PROCESS_PROBE status ProcessDel...</td>\n",
       "      <td>activ probe process probe status processdelet ...</td>\n",
       "      <td>ClosingChrome</td>\n",
       "    </tr>\n",
       "    <tr>\n",
       "      <th>21</th>\n",
       "      <td>activity probe PROCESS_PROBE status ProcessCre...</td>\n",
       "      <td>activ probe process probe status processcr pro...</td>\n",
       "      <td>ClosingChrome</td>\n",
       "    </tr>\n",
       "  </tbody>\n",
       "</table>\n",
       "</div>"
      ],
      "text/plain": [
       "                                                  log  \\\n",
       "0   activity probe PROCESS_PROBE status ProcessCre...   \n",
       "1   activity probe PROCESS_PROBE status ProcessCre...   \n",
       "2   activity probe PROCESS_PROBE status ProcessCre...   \n",
       "3   activity probe PROCESS_PROBE status ProcessCre...   \n",
       "4   activity probe WINDOWSLOGRT_PROBE status Appli...   \n",
       "5   activity probe PROCESS_PROBE status ProcessCre...   \n",
       "6   activity probe PROCESS_PROBE status ProcessCre...   \n",
       "7   activity probe FILERESOURCE_PROBE status Chang...   \n",
       "8   activity probe FILERESOURCE_PROBE status Chang...   \n",
       "9   activity probe PROCESS_PROBE status ProcessCre...   \n",
       "10  activity probe FILERESOURCE_PROBE status Delet...   \n",
       "11  activity probe PROCESS_PROBE status ProcessDel...   \n",
       "12  activity probe PROCESS_PROBE status ProcessCre...   \n",
       "13  activity probe PROCESS_PROBE status ProcessCre...   \n",
       "14  activity probe PROCESS_PROBE status ProcessDel...   \n",
       "15  activity probe PROCESS_PROBE status ProcessDel...   \n",
       "16  activity probe PROCESS_PROBE status ProcessDel...   \n",
       "17  end machineName DESKTOP-QTO1PSM currentDirecto...   \n",
       "18  activity probe PROCESS_PROBE status ProcessDel...   \n",
       "19  activity probe PROCESS_PROBE status ProcessDel...   \n",
       "20  activity probe PROCESS_PROBE status ProcessDel...   \n",
       "21  activity probe PROCESS_PROBE status ProcessCre...   \n",
       "\n",
       "                                              cleaned    Predicted Label  \n",
       "0   activ probe process probe status processcr pro...      ClosingChrome  \n",
       "1   activ probe process probe status processcr pro...     OpeningEclipse  \n",
       "2   activ probe process probe status processcr pro...      OpeningChrome  \n",
       "3   activ probe process probe status processcr pro...      ClosingChrome  \n",
       "4   activ probe windowslogrt probe status applicat...      ClosingChrome  \n",
       "5   activ probe process probe status processcr pro...      OpeningChrome  \n",
       "6   activ probe process probe status processcr pro...     OpeningEclipse  \n",
       "7   activ probe fileresourc probe status chang pat...      OpeningChrome  \n",
       "8   activ probe fileresourc probe status chang pat...     OpeningEclipse  \n",
       "9   activ probe process probe status processcr pro...  CreatingNewFolder  \n",
       "10  activ probe fileresourc probe status delet pat...     DeletingFolder  \n",
       "11  activ probe process probe status processdelet ...      ClosingChrome  \n",
       "12  activ probe process probe status processcr pro...      ClosingChrome  \n",
       "13  activ probe process probe status processcr pro...      ClosingChrome  \n",
       "14  activ probe process probe status processdelet ...      ClosingChrome  \n",
       "15  activ probe process probe status processdelet ...      ClosingChrome  \n",
       "16  activ probe process probe status processdelet ...      ClosingChrome  \n",
       "17  end machinenam desktop qto psm currentdirector...     DeletingFolder  \n",
       "18  activ probe process probe status processdelet ...      ClosingChrome  \n",
       "19  activ probe process probe status processdelet ...      ClosingChrome  \n",
       "20  activ probe process probe status processdelet ...      ClosingChrome  \n",
       "21  activ probe process probe status processcr pro...      ClosingChrome  "
      ]
     },
     "execution_count": 42,
     "metadata": {},
     "output_type": "execute_result"
    }
   ],
   "source": [
    "data_new"
   ]
  },
  {
   "cell_type": "markdown",
   "metadata": {},
   "source": [
    "I can verify that the predicted label in the dataframe above matches with the activity performed by me."
   ]
  },
  {
   "cell_type": "markdown",
   "metadata": {},
   "source": [
    "# Training with LinearSVC"
   ]
  },
  {
   "cell_type": "markdown",
   "metadata": {},
   "source": [
    "I initialize the TfidfVectorizer to calculate the tf-idf vector for the cleaned log data in the dataframe. I set the sublinear_df to true to use a logarithmic form for frequency, mid_df to 5 which determines the minimum number of documents in which a word must be present in. norm is set to l2 to make sure that that the feature vectors have the euclidean norm of 1 and I set the n_gram range to (1, 3) which mean it will consider unigrams, bigrams and trigrams. "
   ]
  },
  {
   "cell_type": "code",
   "execution_count": 43,
   "metadata": {},
   "outputs": [],
   "source": [
    "tfidf = TfidfVectorizer(sublinear_tf = True, min_df = 5, norm='l2', encoding = 'latin-1', ngram_range=(1,3), stop_words = 'english')"
   ]
  },
  {
   "cell_type": "markdown",
   "metadata": {},
   "source": [
    "Then I fit-transformed the vectorizer on the data from the training dataframe and loaded the data into 'features'"
   ]
  },
  {
   "cell_type": "code",
   "execution_count": 44,
   "metadata": {},
   "outputs": [],
   "source": [
    "features = tfidf.fit_transform(data['cleaned_log']).toarray()"
   ]
  },
  {
   "cell_type": "markdown",
   "metadata": {},
   "source": [
    "Then, I loaded the labels data from the dataframe into 'labels'"
   ]
  },
  {
   "cell_type": "code",
   "execution_count": 45,
   "metadata": {},
   "outputs": [],
   "source": [
    "labels = data.label"
   ]
  },
  {
   "cell_type": "markdown",
   "metadata": {},
   "source": [
    "Now, separating the features and labels into training and testing sets"
   ]
  },
  {
   "cell_type": "code",
   "execution_count": 46,
   "metadata": {},
   "outputs": [],
   "source": [
    "features_train, features_test, labels_train, labels_test = train_test_split(features, labels, random_state = 0)"
   ]
  },
  {
   "cell_type": "markdown",
   "metadata": {},
   "source": [
    "Now, creating a new dataframe to store the original and predicted labels"
   ]
  },
  {
   "cell_type": "code",
   "execution_count": 47,
   "metadata": {},
   "outputs": [],
   "source": [
    "lab = {'Original Label' : labels_test}\n",
    "test_labels_df = pd.DataFrame(lab)"
   ]
  },
  {
   "cell_type": "code",
   "execution_count": 48,
   "metadata": {},
   "outputs": [
    {
     "data": {
      "text/html": [
       "<div>\n",
       "<style scoped>\n",
       "    .dataframe tbody tr th:only-of-type {\n",
       "        vertical-align: middle;\n",
       "    }\n",
       "\n",
       "    .dataframe tbody tr th {\n",
       "        vertical-align: top;\n",
       "    }\n",
       "\n",
       "    .dataframe thead th {\n",
       "        text-align: right;\n",
       "    }\n",
       "</style>\n",
       "<table border=\"1\" class=\"dataframe\">\n",
       "  <thead>\n",
       "    <tr style=\"text-align: right;\">\n",
       "      <th></th>\n",
       "      <th>Original Label</th>\n",
       "    </tr>\n",
       "  </thead>\n",
       "  <tbody>\n",
       "    <tr>\n",
       "      <th>434</th>\n",
       "      <td>OpeningChrome</td>\n",
       "    </tr>\n",
       "    <tr>\n",
       "      <th>122</th>\n",
       "      <td>DeletingFolder</td>\n",
       "    </tr>\n",
       "    <tr>\n",
       "      <th>224</th>\n",
       "      <td>OpeningEclipse</td>\n",
       "    </tr>\n",
       "    <tr>\n",
       "      <th>479</th>\n",
       "      <td>ClosingEclipse</td>\n",
       "    </tr>\n",
       "    <tr>\n",
       "      <th>205</th>\n",
       "      <td>OpeningEclipse</td>\n",
       "    </tr>\n",
       "    <tr>\n",
       "      <th>...</th>\n",
       "      <td>...</td>\n",
       "    </tr>\n",
       "    <tr>\n",
       "      <th>598</th>\n",
       "      <td>OpeningChrome</td>\n",
       "    </tr>\n",
       "    <tr>\n",
       "      <th>89</th>\n",
       "      <td>ClosingEclipse</td>\n",
       "    </tr>\n",
       "    <tr>\n",
       "      <th>382</th>\n",
       "      <td>CreatingNewFolder</td>\n",
       "    </tr>\n",
       "    <tr>\n",
       "      <th>408</th>\n",
       "      <td>CreatingNewFolder</td>\n",
       "    </tr>\n",
       "    <tr>\n",
       "      <th>157</th>\n",
       "      <td>CreatingNewFolder</td>\n",
       "    </tr>\n",
       "  </tbody>\n",
       "</table>\n",
       "<p>150 rows × 1 columns</p>\n",
       "</div>"
      ],
      "text/plain": [
       "        Original Label\n",
       "434      OpeningChrome\n",
       "122     DeletingFolder\n",
       "224     OpeningEclipse\n",
       "479     ClosingEclipse\n",
       "205     OpeningEclipse\n",
       "..                 ...\n",
       "598      OpeningChrome\n",
       "89      ClosingEclipse\n",
       "382  CreatingNewFolder\n",
       "408  CreatingNewFolder\n",
       "157  CreatingNewFolder\n",
       "\n",
       "[150 rows x 1 columns]"
      ]
     },
     "execution_count": 48,
     "metadata": {},
     "output_type": "execute_result"
    }
   ],
   "source": [
    "test_labels_df"
   ]
  },
  {
   "cell_type": "markdown",
   "metadata": {},
   "source": [
    "Initializing LinearSVC classifier"
   ]
  },
  {
   "cell_type": "code",
   "execution_count": 49,
   "metadata": {},
   "outputs": [],
   "source": [
    "model_LinearSVC = LinearSVC()"
   ]
  },
  {
   "cell_type": "markdown",
   "metadata": {},
   "source": [
    "Fitting the Linear SVC model on the features and labels data acquired"
   ]
  },
  {
   "cell_type": "code",
   "execution_count": 50,
   "metadata": {},
   "outputs": [],
   "source": [
    "clf_LinearSVC = model_LinearSVC.fit(features_train, labels_train)"
   ]
  },
  {
   "cell_type": "markdown",
   "metadata": {},
   "source": [
    "Predicting the labels of the features in the testing set which returns the predictions as a numpy array"
   ]
  },
  {
   "cell_type": "code",
   "execution_count": 51,
   "metadata": {},
   "outputs": [],
   "source": [
    "pred_lsvc = clf_LinearSVC.predict(features_test)"
   ]
  },
  {
   "cell_type": "markdown",
   "metadata": {},
   "source": [
    "Adding the labels predicted by the Linear SVC classifier into a new column in the 'labels_df' dataframe"
   ]
  },
  {
   "cell_type": "code",
   "execution_count": 52,
   "metadata": {},
   "outputs": [],
   "source": [
    "test_labels_df['Prediction_LinearSVC'] = pred_lsvc"
   ]
  },
  {
   "cell_type": "code",
   "execution_count": 53,
   "metadata": {},
   "outputs": [
    {
     "data": {
      "text/html": [
       "<div>\n",
       "<style scoped>\n",
       "    .dataframe tbody tr th:only-of-type {\n",
       "        vertical-align: middle;\n",
       "    }\n",
       "\n",
       "    .dataframe tbody tr th {\n",
       "        vertical-align: top;\n",
       "    }\n",
       "\n",
       "    .dataframe thead th {\n",
       "        text-align: right;\n",
       "    }\n",
       "</style>\n",
       "<table border=\"1\" class=\"dataframe\">\n",
       "  <thead>\n",
       "    <tr style=\"text-align: right;\">\n",
       "      <th></th>\n",
       "      <th>Original Label</th>\n",
       "      <th>Prediction_LinearSVC</th>\n",
       "    </tr>\n",
       "  </thead>\n",
       "  <tbody>\n",
       "    <tr>\n",
       "      <th>434</th>\n",
       "      <td>OpeningChrome</td>\n",
       "      <td>OpeningChrome</td>\n",
       "    </tr>\n",
       "    <tr>\n",
       "      <th>122</th>\n",
       "      <td>DeletingFolder</td>\n",
       "      <td>DeletingFolder</td>\n",
       "    </tr>\n",
       "    <tr>\n",
       "      <th>224</th>\n",
       "      <td>OpeningEclipse</td>\n",
       "      <td>OpeningEclipse</td>\n",
       "    </tr>\n",
       "    <tr>\n",
       "      <th>479</th>\n",
       "      <td>ClosingEclipse</td>\n",
       "      <td>ClosingEclipse</td>\n",
       "    </tr>\n",
       "    <tr>\n",
       "      <th>205</th>\n",
       "      <td>OpeningEclipse</td>\n",
       "      <td>OpeningEclipse</td>\n",
       "    </tr>\n",
       "    <tr>\n",
       "      <th>...</th>\n",
       "      <td>...</td>\n",
       "      <td>...</td>\n",
       "    </tr>\n",
       "    <tr>\n",
       "      <th>598</th>\n",
       "      <td>OpeningChrome</td>\n",
       "      <td>OpeningChrome</td>\n",
       "    </tr>\n",
       "    <tr>\n",
       "      <th>89</th>\n",
       "      <td>ClosingEclipse</td>\n",
       "      <td>ClosingEclipse</td>\n",
       "    </tr>\n",
       "    <tr>\n",
       "      <th>382</th>\n",
       "      <td>CreatingNewFolder</td>\n",
       "      <td>CreatingNewFolder</td>\n",
       "    </tr>\n",
       "    <tr>\n",
       "      <th>408</th>\n",
       "      <td>CreatingNewFolder</td>\n",
       "      <td>CreatingNewFolder</td>\n",
       "    </tr>\n",
       "    <tr>\n",
       "      <th>157</th>\n",
       "      <td>CreatingNewFolder</td>\n",
       "      <td>CreatingNewFolder</td>\n",
       "    </tr>\n",
       "  </tbody>\n",
       "</table>\n",
       "<p>150 rows × 2 columns</p>\n",
       "</div>"
      ],
      "text/plain": [
       "        Original Label Prediction_LinearSVC\n",
       "434      OpeningChrome        OpeningChrome\n",
       "122     DeletingFolder       DeletingFolder\n",
       "224     OpeningEclipse       OpeningEclipse\n",
       "479     ClosingEclipse       ClosingEclipse\n",
       "205     OpeningEclipse       OpeningEclipse\n",
       "..                 ...                  ...\n",
       "598      OpeningChrome        OpeningChrome\n",
       "89      ClosingEclipse       ClosingEclipse\n",
       "382  CreatingNewFolder    CreatingNewFolder\n",
       "408  CreatingNewFolder    CreatingNewFolder\n",
       "157  CreatingNewFolder    CreatingNewFolder\n",
       "\n",
       "[150 rows x 2 columns]"
      ]
     },
     "execution_count": 53,
     "metadata": {},
     "output_type": "execute_result"
    }
   ],
   "source": [
    "test_labels_df"
   ]
  },
  {
   "cell_type": "markdown",
   "metadata": {},
   "source": [
    "Next, I plotted a confusion matrix to see the accuracy of the prediction by the Linear SVC classifier. As can be seen below, the classifier is working very good with 100% accuracy"
   ]
  },
  {
   "cell_type": "code",
   "execution_count": 54,
   "metadata": {
    "scrolled": true
   },
   "outputs": [
    {
     "data": {
      "image/png": "[encoded data removed]",
      "text/plain": [
       "<Figure size 720x720 with 2 Axes>"
      ]
     },
     "metadata": {
      "needs_background": "light"
     },
     "output_type": "display_data"
    }
   ],
   "source": [
    "conf_mat = confusion_matrix(labels_test, pred_lsvc)\n",
    "fig, ax = plt.subplots(figsize=(10,10))\n",
    "sns.heatmap(conf_mat, annot=True, fmt='d',\n",
    "            xticklabels=label_id_df.label.values, yticklabels=label_id_df.label.values)\n",
    "plt.ylabel('Actual')\n",
    "plt.xlabel('Predicted')\n",
    "plt.show()"
   ]
  },
  {
   "cell_type": "markdown",
   "metadata": {},
   "source": [
    "# Training with Random Forest Classifier"
   ]
  },
  {
   "cell_type": "markdown",
   "metadata": {},
   "source": [
    "Initializing Random Forest classifier"
   ]
  },
  {
   "cell_type": "code",
   "execution_count": 55,
   "metadata": {},
   "outputs": [],
   "source": [
    "model_RandomForest = RandomForestClassifier(n_estimators=200, max_depth=3, random_state=0)"
   ]
  },
  {
   "cell_type": "markdown",
   "metadata": {},
   "source": [
    "Fitting the Random Forest model on the features and labels data acquired"
   ]
  },
  {
   "cell_type": "code",
   "execution_count": 56,
   "metadata": {},
   "outputs": [],
   "source": [
    "clf_RandomForest = model_RandomForest.fit(features_train, labels_train)"
   ]
  },
  {
   "cell_type": "markdown",
   "metadata": {},
   "source": [
    "Predicting the labels of the features in the testing set which returns the predictions as a numpy array"
   ]
  },
  {
   "cell_type": "code",
   "execution_count": 57,
   "metadata": {},
   "outputs": [],
   "source": [
    "pred_RandomForest = clf_RandomForest.predict(features_test)"
   ]
  },
  {
   "cell_type": "markdown",
   "metadata": {},
   "source": [
    "Adding the labels predicted by the Random Forest classifier into a new column in the 'labels_df' dataframe"
   ]
  },
  {
   "cell_type": "code",
   "execution_count": 58,
   "metadata": {},
   "outputs": [],
   "source": [
    "test_labels_df['Prediction_RandomForest'] = pred_RandomForest"
   ]
  },
  {
   "cell_type": "code",
   "execution_count": 59,
   "metadata": {},
   "outputs": [
    {
     "data": {
      "text/html": [
       "<div>\n",
       "<style scoped>\n",
       "    .dataframe tbody tr th:only-of-type {\n",
       "        vertical-align: middle;\n",
       "    }\n",
       "\n",
       "    .dataframe tbody tr th {\n",
       "        vertical-align: top;\n",
       "    }\n",
       "\n",
       "    .dataframe thead th {\n",
       "        text-align: right;\n",
       "    }\n",
       "</style>\n",
       "<table border=\"1\" class=\"dataframe\">\n",
       "  <thead>\n",
       "    <tr style=\"text-align: right;\">\n",
       "      <th></th>\n",
       "      <th>Original Label</th>\n",
       "      <th>Prediction_LinearSVC</th>\n",
       "      <th>Prediction_RandomForest</th>\n",
       "    </tr>\n",
       "  </thead>\n",
       "  <tbody>\n",
       "    <tr>\n",
       "      <th>434</th>\n",
       "      <td>OpeningChrome</td>\n",
       "      <td>OpeningChrome</td>\n",
       "      <td>OpeningChrome</td>\n",
       "    </tr>\n",
       "    <tr>\n",
       "      <th>122</th>\n",
       "      <td>DeletingFolder</td>\n",
       "      <td>DeletingFolder</td>\n",
       "      <td>ClosingChrome</td>\n",
       "    </tr>\n",
       "    <tr>\n",
       "      <th>224</th>\n",
       "      <td>OpeningEclipse</td>\n",
       "      <td>OpeningEclipse</td>\n",
       "      <td>OpeningEclipse</td>\n",
       "    </tr>\n",
       "    <tr>\n",
       "      <th>479</th>\n",
       "      <td>ClosingEclipse</td>\n",
       "      <td>ClosingEclipse</td>\n",
       "      <td>ClosingEclipse</td>\n",
       "    </tr>\n",
       "    <tr>\n",
       "      <th>205</th>\n",
       "      <td>OpeningEclipse</td>\n",
       "      <td>OpeningEclipse</td>\n",
       "      <td>OpeningEclipse</td>\n",
       "    </tr>\n",
       "    <tr>\n",
       "      <th>...</th>\n",
       "      <td>...</td>\n",
       "      <td>...</td>\n",
       "      <td>...</td>\n",
       "    </tr>\n",
       "    <tr>\n",
       "      <th>598</th>\n",
       "      <td>OpeningChrome</td>\n",
       "      <td>OpeningChrome</td>\n",
       "      <td>OpeningChrome</td>\n",
       "    </tr>\n",
       "    <tr>\n",
       "      <th>89</th>\n",
       "      <td>ClosingEclipse</td>\n",
       "      <td>ClosingEclipse</td>\n",
       "      <td>ClosingEclipse</td>\n",
       "    </tr>\n",
       "    <tr>\n",
       "      <th>382</th>\n",
       "      <td>CreatingNewFolder</td>\n",
       "      <td>CreatingNewFolder</td>\n",
       "      <td>CreatingNewFolder</td>\n",
       "    </tr>\n",
       "    <tr>\n",
       "      <th>408</th>\n",
       "      <td>CreatingNewFolder</td>\n",
       "      <td>CreatingNewFolder</td>\n",
       "      <td>CreatingNewFolder</td>\n",
       "    </tr>\n",
       "    <tr>\n",
       "      <th>157</th>\n",
       "      <td>CreatingNewFolder</td>\n",
       "      <td>CreatingNewFolder</td>\n",
       "      <td>CreatingNewFolder</td>\n",
       "    </tr>\n",
       "  </tbody>\n",
       "</table>\n",
       "<p>150 rows × 3 columns</p>\n",
       "</div>"
      ],
      "text/plain": [
       "        Original Label Prediction_LinearSVC Prediction_RandomForest\n",
       "434      OpeningChrome        OpeningChrome           OpeningChrome\n",
       "122     DeletingFolder       DeletingFolder           ClosingChrome\n",
       "224     OpeningEclipse       OpeningEclipse          OpeningEclipse\n",
       "479     ClosingEclipse       ClosingEclipse          ClosingEclipse\n",
       "205     OpeningEclipse       OpeningEclipse          OpeningEclipse\n",
       "..                 ...                  ...                     ...\n",
       "598      OpeningChrome        OpeningChrome           OpeningChrome\n",
       "89      ClosingEclipse       ClosingEclipse          ClosingEclipse\n",
       "382  CreatingNewFolder    CreatingNewFolder       CreatingNewFolder\n",
       "408  CreatingNewFolder    CreatingNewFolder       CreatingNewFolder\n",
       "157  CreatingNewFolder    CreatingNewFolder       CreatingNewFolder\n",
       "\n",
       "[150 rows x 3 columns]"
      ]
     },
     "execution_count": 59,
     "metadata": {},
     "output_type": "execute_result"
    }
   ],
   "source": [
    "test_labels_df"
   ]
  },
  {
   "cell_type": "markdown",
   "metadata": {},
   "source": [
    "Next, I plotted a confusion matrix to see the accuracy of the prediction by the Random Forest classifier. As can be seen below, the classifier is working very good with 100% accuracy"
   ]
  },
  {
   "cell_type": "code",
   "execution_count": 60,
   "metadata": {
    "scrolled": true
   },
   "outputs": [
    {
     "data": {
      "image/png": "[encoded data removed]",
      "text/plain": [
       "<Figure size 720x720 with 2 Axes>"
      ]
     },
     "metadata": {
      "needs_background": "light"
     },
     "output_type": "display_data"
    }
   ],
   "source": [
    "conf_mat = confusion_matrix(labels_test, pred_RandomForest)\n",
    "fig, ax = plt.subplots(figsize=(10,10))\n",
    "sns.heatmap(conf_mat, annot=True, fmt='d',\n",
    "            xticklabels=label_id_df.label.values, yticklabels=label_id_df.label.values)\n",
    "plt.ylabel('Actual')\n",
    "plt.xlabel('Predicted')\n",
    "plt.show()"
   ]
  },
  {
   "cell_type": "markdown",
   "metadata": {},
   "source": [
    "# Training with Logistic Regression"
   ]
  },
  {
   "cell_type": "markdown",
   "metadata": {},
   "source": [
    "Initializing Random Forest classifier"
   ]
  },
  {
   "cell_type": "code",
   "execution_count": 61,
   "metadata": {},
   "outputs": [],
   "source": [
    "model_LogisticRegression = LogisticRegression(random_state=0)"
   ]
  },
  {
   "cell_type": "markdown",
   "metadata": {},
   "source": [
    "Fitting the Random Forest model on the features and labels data acquired"
   ]
  },
  {
   "cell_type": "code",
   "execution_count": 62,
   "metadata": {},
   "outputs": [],
   "source": [
    "clf_LogisticRegression = model_LogisticRegression.fit(features_train, labels_train)"
   ]
  },
  {
   "cell_type": "markdown",
   "metadata": {},
   "source": [
    "Predicting the labels of the features in the testing set which returns the predictions as a numpy array"
   ]
  },
  {
   "cell_type": "code",
   "execution_count": 63,
   "metadata": {},
   "outputs": [],
   "source": [
    "pred_LogisticRegression = clf_LogisticRegression.predict(features_test)"
   ]
  },
  {
   "cell_type": "markdown",
   "metadata": {},
   "source": [
    "Adding the labels predicted by the Linear SVC classifier into a new column in the 'labels_df' dataframe"
   ]
  },
  {
   "cell_type": "code",
   "execution_count": 64,
   "metadata": {},
   "outputs": [],
   "source": [
    "test_labels_df['Prediction_LogisticRegression'] = pred_LogisticRegression"
   ]
  },
  {
   "cell_type": "code",
   "execution_count": 65,
   "metadata": {},
   "outputs": [
    {
     "data": {
      "text/html": [
       "<div>\n",
       "<style scoped>\n",
       "    .dataframe tbody tr th:only-of-type {\n",
       "        vertical-align: middle;\n",
       "    }\n",
       "\n",
       "    .dataframe tbody tr th {\n",
       "        vertical-align: top;\n",
       "    }\n",
       "\n",
       "    .dataframe thead th {\n",
       "        text-align: right;\n",
       "    }\n",
       "</style>\n",
       "<table border=\"1\" class=\"dataframe\">\n",
       "  <thead>\n",
       "    <tr style=\"text-align: right;\">\n",
       "      <th></th>\n",
       "      <th>Original Label</th>\n",
       "      <th>Prediction_LinearSVC</th>\n",
       "      <th>Prediction_RandomForest</th>\n",
       "      <th>Prediction_LogisticRegression</th>\n",
       "    </tr>\n",
       "  </thead>\n",
       "  <tbody>\n",
       "    <tr>\n",
       "      <th>434</th>\n",
       "      <td>OpeningChrome</td>\n",
       "      <td>OpeningChrome</td>\n",
       "      <td>OpeningChrome</td>\n",
       "      <td>OpeningChrome</td>\n",
       "    </tr>\n",
       "    <tr>\n",
       "      <th>122</th>\n",
       "      <td>DeletingFolder</td>\n",
       "      <td>DeletingFolder</td>\n",
       "      <td>ClosingChrome</td>\n",
       "      <td>CreatingNewFolder</td>\n",
       "    </tr>\n",
       "    <tr>\n",
       "      <th>224</th>\n",
       "      <td>OpeningEclipse</td>\n",
       "      <td>OpeningEclipse</td>\n",
       "      <td>OpeningEclipse</td>\n",
       "      <td>OpeningEclipse</td>\n",
       "    </tr>\n",
       "    <tr>\n",
       "      <th>479</th>\n",
       "      <td>ClosingEclipse</td>\n",
       "      <td>ClosingEclipse</td>\n",
       "      <td>ClosingEclipse</td>\n",
       "      <td>ClosingEclipse</td>\n",
       "    </tr>\n",
       "    <tr>\n",
       "      <th>205</th>\n",
       "      <td>OpeningEclipse</td>\n",
       "      <td>OpeningEclipse</td>\n",
       "      <td>OpeningEclipse</td>\n",
       "      <td>OpeningEclipse</td>\n",
       "    </tr>\n",
       "    <tr>\n",
       "      <th>...</th>\n",
       "      <td>...</td>\n",
       "      <td>...</td>\n",
       "      <td>...</td>\n",
       "      <td>...</td>\n",
       "    </tr>\n",
       "    <tr>\n",
       "      <th>598</th>\n",
       "      <td>OpeningChrome</td>\n",
       "      <td>OpeningChrome</td>\n",
       "      <td>OpeningChrome</td>\n",
       "      <td>OpeningChrome</td>\n",
       "    </tr>\n",
       "    <tr>\n",
       "      <th>89</th>\n",
       "      <td>ClosingEclipse</td>\n",
       "      <td>ClosingEclipse</td>\n",
       "      <td>ClosingEclipse</td>\n",
       "      <td>ClosingEclipse</td>\n",
       "    </tr>\n",
       "    <tr>\n",
       "      <th>382</th>\n",
       "      <td>CreatingNewFolder</td>\n",
       "      <td>CreatingNewFolder</td>\n",
       "      <td>CreatingNewFolder</td>\n",
       "      <td>CreatingNewFolder</td>\n",
       "    </tr>\n",
       "    <tr>\n",
       "      <th>408</th>\n",
       "      <td>CreatingNewFolder</td>\n",
       "      <td>CreatingNewFolder</td>\n",
       "      <td>CreatingNewFolder</td>\n",
       "      <td>CreatingNewFolder</td>\n",
       "    </tr>\n",
       "    <tr>\n",
       "      <th>157</th>\n",
       "      <td>CreatingNewFolder</td>\n",
       "      <td>CreatingNewFolder</td>\n",
       "      <td>CreatingNewFolder</td>\n",
       "      <td>CreatingNewFolder</td>\n",
       "    </tr>\n",
       "  </tbody>\n",
       "</table>\n",
       "<p>150 rows × 4 columns</p>\n",
       "</div>"
      ],
      "text/plain": [
       "        Original Label Prediction_LinearSVC Prediction_RandomForest  \\\n",
       "434      OpeningChrome        OpeningChrome           OpeningChrome   \n",
       "122     DeletingFolder       DeletingFolder           ClosingChrome   \n",
       "224     OpeningEclipse       OpeningEclipse          OpeningEclipse   \n",
       "479     ClosingEclipse       ClosingEclipse          ClosingEclipse   \n",
       "205     OpeningEclipse       OpeningEclipse          OpeningEclipse   \n",
       "..                 ...                  ...                     ...   \n",
       "598      OpeningChrome        OpeningChrome           OpeningChrome   \n",
       "89      ClosingEclipse       ClosingEclipse          ClosingEclipse   \n",
       "382  CreatingNewFolder    CreatingNewFolder       CreatingNewFolder   \n",
       "408  CreatingNewFolder    CreatingNewFolder       CreatingNewFolder   \n",
       "157  CreatingNewFolder    CreatingNewFolder       CreatingNewFolder   \n",
       "\n",
       "    Prediction_LogisticRegression  \n",
       "434                 OpeningChrome  \n",
       "122             CreatingNewFolder  \n",
       "224                OpeningEclipse  \n",
       "479                ClosingEclipse  \n",
       "205                OpeningEclipse  \n",
       "..                            ...  \n",
       "598                 OpeningChrome  \n",
       "89                 ClosingEclipse  \n",
       "382             CreatingNewFolder  \n",
       "408             CreatingNewFolder  \n",
       "157             CreatingNewFolder  \n",
       "\n",
       "[150 rows x 4 columns]"
      ]
     },
     "execution_count": 65,
     "metadata": {},
     "output_type": "execute_result"
    }
   ],
   "source": [
    "test_labels_df"
   ]
  },
  {
   "cell_type": "markdown",
   "metadata": {},
   "source": [
    "Next, I plotted a confusion matrix to see the accuracy of the prediction by the Logistic Regression classifier. As can be seen below, the classifier is working very good with 100% accuracy"
   ]
  },
  {
   "cell_type": "code",
   "execution_count": 66,
   "metadata": {
    "scrolled": true
   },
   "outputs": [
    {
     "data": {
      "image/png": "[encoded data removed]",
      "text/plain": [
       "<Figure size 720x720 with 2 Axes>"
      ]
     },
     "metadata": {
      "needs_background": "light"
     },
     "output_type": "display_data"
    }
   ],
   "source": [
    "conf_mat = confusion_matrix(labels_test, pred_LogisticRegression)\n",
    "fig, ax = plt.subplots(figsize=(10,10))\n",
    "sns.heatmap(conf_mat, annot=True, fmt='d',\n",
    "            xticklabels=label_id_df.label.values, yticklabels=label_id_df.label.values)\n",
    "plt.ylabel('Actual')\n",
    "plt.xlabel('Predicted')\n",
    "plt.show()"
   ]
  },
  {
   "cell_type": "markdown",
   "metadata": {},
   "source": [
    "# Computing the Cross-Val Scores of different models"
   ]
  },
  {
   "cell_type": "markdown",
   "metadata": {},
   "source": [
    "Creating an array to store the classifier to be able to loop through them"
   ]
  },
  {
   "cell_type": "code",
   "execution_count": 67,
   "metadata": {},
   "outputs": [],
   "source": [
    "models = [\n",
    "    model_LinearSVC,\n",
    "    model_LogisticRegression,\n",
    "    model_RandomForest    \n",
    "]"
   ]
  },
  {
   "cell_type": "markdown",
   "metadata": {},
   "source": [
    "Initializing a dataframe to store the accuracy values"
   ]
  },
  {
   "cell_type": "code",
   "execution_count": 68,
   "metadata": {},
   "outputs": [],
   "source": [
    "CV = 5\n",
    "cv_df = pd.DataFrame(index=range(CV * len(models)))\n",
    "entries = []"
   ]
  },
  {
   "cell_type": "markdown",
   "metadata": {},
   "source": [
    "Looping through each of the classifier models stored in the 'models' array and applying cross_val_score() function on each of these models with the features and labels acquired earlier. Setting the value of 'cv' to 5 which determines the cross-validation splitting strategy. 'cv=5' means the dataset will be divided into 5 folds and trained with 4 folds while keeping 1 fold for each time. Finally, I put the accuracies found from running cross_val_score() using each model on each of the folds of data and appended them into separate rows in a dataframe"
   ]
  },
  {
   "cell_type": "code",
   "execution_count": 69,
   "metadata": {},
   "outputs": [],
   "source": [
    "for model in models:\n",
    "    model_name = model.__class__.__name__\n",
    "    accuracies = cross_val_score(model, features, labels, scoring='accuracy', cv=CV)\n",
    "    for fold_id, accuracy in enumerate(accuracies):\n",
    "        entries.append((model_name, fold_id, accuracy))\n",
    "cv_df = pd.DataFrame(entries, columns=['model_name', 'fold_id', 'accuracy'])"
   ]
  },
  {
   "cell_type": "code",
   "execution_count": 70,
   "metadata": {
    "scrolled": true
   },
   "outputs": [
    {
     "data": {
      "text/html": [
       "<div>\n",
       "<style scoped>\n",
       "    .dataframe tbody tr th:only-of-type {\n",
       "        vertical-align: middle;\n",
       "    }\n",
       "\n",
       "    .dataframe tbody tr th {\n",
       "        vertical-align: top;\n",
       "    }\n",
       "\n",
       "    .dataframe thead th {\n",
       "        text-align: right;\n",
       "    }\n",
       "</style>\n",
       "<table border=\"1\" class=\"dataframe\">\n",
       "  <thead>\n",
       "    <tr style=\"text-align: right;\">\n",
       "      <th></th>\n",
       "      <th>model_name</th>\n",
       "      <th>fold_id</th>\n",
       "      <th>accuracy</th>\n",
       "    </tr>\n",
       "  </thead>\n",
       "  <tbody>\n",
       "    <tr>\n",
       "      <th>0</th>\n",
       "      <td>LinearSVC</td>\n",
       "      <td>0</td>\n",
       "      <td>0.991667</td>\n",
       "    </tr>\n",
       "    <tr>\n",
       "      <th>1</th>\n",
       "      <td>LinearSVC</td>\n",
       "      <td>1</td>\n",
       "      <td>0.983333</td>\n",
       "    </tr>\n",
       "    <tr>\n",
       "      <th>2</th>\n",
       "      <td>LinearSVC</td>\n",
       "      <td>2</td>\n",
       "      <td>0.975000</td>\n",
       "    </tr>\n",
       "    <tr>\n",
       "      <th>3</th>\n",
       "      <td>LinearSVC</td>\n",
       "      <td>3</td>\n",
       "      <td>0.983333</td>\n",
       "    </tr>\n",
       "    <tr>\n",
       "      <th>4</th>\n",
       "      <td>LinearSVC</td>\n",
       "      <td>4</td>\n",
       "      <td>1.000000</td>\n",
       "    </tr>\n",
       "    <tr>\n",
       "      <th>5</th>\n",
       "      <td>LogisticRegression</td>\n",
       "      <td>0</td>\n",
       "      <td>0.991667</td>\n",
       "    </tr>\n",
       "    <tr>\n",
       "      <th>6</th>\n",
       "      <td>LogisticRegression</td>\n",
       "      <td>1</td>\n",
       "      <td>0.983333</td>\n",
       "    </tr>\n",
       "    <tr>\n",
       "      <th>7</th>\n",
       "      <td>LogisticRegression</td>\n",
       "      <td>2</td>\n",
       "      <td>0.966667</td>\n",
       "    </tr>\n",
       "    <tr>\n",
       "      <th>8</th>\n",
       "      <td>LogisticRegression</td>\n",
       "      <td>3</td>\n",
       "      <td>0.975000</td>\n",
       "    </tr>\n",
       "    <tr>\n",
       "      <th>9</th>\n",
       "      <td>LogisticRegression</td>\n",
       "      <td>4</td>\n",
       "      <td>0.991667</td>\n",
       "    </tr>\n",
       "    <tr>\n",
       "      <th>10</th>\n",
       "      <td>RandomForestClassifier</td>\n",
       "      <td>0</td>\n",
       "      <td>0.991667</td>\n",
       "    </tr>\n",
       "    <tr>\n",
       "      <th>11</th>\n",
       "      <td>RandomForestClassifier</td>\n",
       "      <td>1</td>\n",
       "      <td>0.991667</td>\n",
       "    </tr>\n",
       "    <tr>\n",
       "      <th>12</th>\n",
       "      <td>RandomForestClassifier</td>\n",
       "      <td>2</td>\n",
       "      <td>0.975000</td>\n",
       "    </tr>\n",
       "    <tr>\n",
       "      <th>13</th>\n",
       "      <td>RandomForestClassifier</td>\n",
       "      <td>3</td>\n",
       "      <td>0.975000</td>\n",
       "    </tr>\n",
       "    <tr>\n",
       "      <th>14</th>\n",
       "      <td>RandomForestClassifier</td>\n",
       "      <td>4</td>\n",
       "      <td>0.983333</td>\n",
       "    </tr>\n",
       "  </tbody>\n",
       "</table>\n",
       "</div>"
      ],
      "text/plain": [
       "                model_name  fold_id  accuracy\n",
       "0                LinearSVC        0  0.991667\n",
       "1                LinearSVC        1  0.983333\n",
       "2                LinearSVC        2  0.975000\n",
       "3                LinearSVC        3  0.983333\n",
       "4                LinearSVC        4  1.000000\n",
       "5       LogisticRegression        0  0.991667\n",
       "6       LogisticRegression        1  0.983333\n",
       "7       LogisticRegression        2  0.966667\n",
       "8       LogisticRegression        3  0.975000\n",
       "9       LogisticRegression        4  0.991667\n",
       "10  RandomForestClassifier        0  0.991667\n",
       "11  RandomForestClassifier        1  0.991667\n",
       "12  RandomForestClassifier        2  0.975000\n",
       "13  RandomForestClassifier        3  0.975000\n",
       "14  RandomForestClassifier        4  0.983333"
      ]
     },
     "execution_count": 70,
     "metadata": {},
     "output_type": "execute_result"
    }
   ],
   "source": [
    "cv_df"
   ]
  },
  {
   "cell_type": "markdown",
   "metadata": {},
   "source": [
    "Using a boxplot to visualize the data"
   ]
  },
  {
   "cell_type": "code",
   "execution_count": 71,
   "metadata": {
    "scrolled": true
   },
   "outputs": [
    {
     "data": {
      "image/png": "[encoded data removed]",
      "text/plain": [
       "<Figure size 432x288 with 1 Axes>"
      ]
     },
     "metadata": {
      "needs_background": "light"
     },
     "output_type": "display_data"
    }
   ],
   "source": [
    "sns.boxplot(x='model_name', y='accuracy', data=cv_df)\n",
    "sns.stripplot(x='model_name', y='accuracy', data=cv_df, size=8, jitter=True, edgecolor=\"gray\", linewidth=2)\n",
    "plt.show()"
   ]
  },
  {
   "cell_type": "markdown",
   "metadata": {},
   "source": [
    "Finding the mean accuracy for each of the model"
   ]
  },
  {
   "cell_type": "code",
   "execution_count": 72,
   "metadata": {},
   "outputs": [
    {
     "data": {
      "text/plain": [
       "model_name\n",
       "LinearSVC                 0.986667\n",
       "LogisticRegression        0.981667\n",
       "RandomForestClassifier    0.983333\n",
       "Name: accuracy, dtype: float64"
      ]
     },
     "execution_count": 72,
     "metadata": {},
     "output_type": "execute_result"
    }
   ],
   "source": [
    "cv_df.groupby('model_name').accuracy.mean()"
   ]
  }
 ],
 "metadata": {
  "kernelspec": {
   "display_name": "Python 3",
   "language": "python",
   "name": "python3"
  },
  "language_info": {
   "codemirror_mode": {
    "name": "ipython",
    "version": 3
   },
   "file_extension": ".py",
   "mimetype": "text/x-python",
   "name": "python",
   "nbconvert_exporter": "python",
   "pygments_lexer": "ipython3",
   "version": "3.7.6"
  }
 },
 "nbformat": 4,
 "nbformat_minor": 4
}
